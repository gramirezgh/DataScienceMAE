{
 "cells": [
  {
   "cell_type": "code",
   "execution_count": 2,
   "metadata": {},
   "outputs": [
    {
     "name": "stdout",
     "output_type": "stream",
     "text": [
      "[ 8425333  9240934 10267083 ... 11404948 11926563 12311143]\n",
      "['Afghanistan' 'Afghanistan' 'Afghanistan' ... 'Zimbabwe' 'Zimbabwe'\n",
      " 'Zimbabwe']\n",
      "[1952 1957 1962 ... 1997 2002 2007]\n"
     ]
    }
   ],
   "source": [
    "import pandas as pd  #importando las libreiras necesarias\n",
    "import numpy as np\n",
    "data = pd.read_csv('data/poblacion.csv')\n",
    "populations = np.array(data['population'])\n",
    "countries= np.array(data['country'])\n",
    "years = np.array(data['year'])\n",
    "print(populations)\n",
    "print(countries)\n",
    "print(years)"
   ]
  },
  {
   "cell_type": "code",
   "execution_count": 48,
   "metadata": {},
   "outputs": [
    {
     "data": {
      "text/html": [
       "<div>\n",
       "<style scoped>\n",
       "    .dataframe tbody tr th:only-of-type {\n",
       "        vertical-align: middle;\n",
       "    }\n",
       "\n",
       "    .dataframe tbody tr th {\n",
       "        vertical-align: top;\n",
       "    }\n",
       "\n",
       "    .dataframe thead th {\n",
       "        text-align: right;\n",
       "    }\n",
       "</style>\n",
       "<table border=\"1\" class=\"dataframe\">\n",
       "  <thead>\n",
       "    <tr style=\"text-align: right;\">\n",
       "      <th></th>\n",
       "      <th>Pais</th>\n",
       "      <th>Poblacion</th>\n",
       "      <th>Años</th>\n",
       "    </tr>\n",
       "  </thead>\n",
       "  <tbody>\n",
       "    <tr>\n",
       "      <th>0</th>\n",
       "      <td>Afghanistan</td>\n",
       "      <td>8425333</td>\n",
       "      <td>1952</td>\n",
       "    </tr>\n",
       "    <tr>\n",
       "      <th>1</th>\n",
       "      <td>Afghanistan</td>\n",
       "      <td>9240934</td>\n",
       "      <td>1957</td>\n",
       "    </tr>\n",
       "    <tr>\n",
       "      <th>2</th>\n",
       "      <td>Afghanistan</td>\n",
       "      <td>10267083</td>\n",
       "      <td>1962</td>\n",
       "    </tr>\n",
       "    <tr>\n",
       "      <th>3</th>\n",
       "      <td>Afghanistan</td>\n",
       "      <td>11537966</td>\n",
       "      <td>1967</td>\n",
       "    </tr>\n",
       "    <tr>\n",
       "      <th>4</th>\n",
       "      <td>Afghanistan</td>\n",
       "      <td>13079460</td>\n",
       "      <td>1972</td>\n",
       "    </tr>\n",
       "    <tr>\n",
       "      <th>...</th>\n",
       "      <td>...</td>\n",
       "      <td>...</td>\n",
       "      <td>...</td>\n",
       "    </tr>\n",
       "    <tr>\n",
       "      <th>1699</th>\n",
       "      <td>Zimbabwe</td>\n",
       "      <td>9216418</td>\n",
       "      <td>1987</td>\n",
       "    </tr>\n",
       "    <tr>\n",
       "      <th>1700</th>\n",
       "      <td>Zimbabwe</td>\n",
       "      <td>10704340</td>\n",
       "      <td>1992</td>\n",
       "    </tr>\n",
       "    <tr>\n",
       "      <th>1701</th>\n",
       "      <td>Zimbabwe</td>\n",
       "      <td>11404948</td>\n",
       "      <td>1997</td>\n",
       "    </tr>\n",
       "    <tr>\n",
       "      <th>1702</th>\n",
       "      <td>Zimbabwe</td>\n",
       "      <td>11926563</td>\n",
       "      <td>2002</td>\n",
       "    </tr>\n",
       "    <tr>\n",
       "      <th>1703</th>\n",
       "      <td>Zimbabwe</td>\n",
       "      <td>12311143</td>\n",
       "      <td>2007</td>\n",
       "    </tr>\n",
       "  </tbody>\n",
       "</table>\n",
       "<p>1704 rows × 3 columns</p>\n",
       "</div>"
      ],
      "text/plain": [
       "             Pais  Poblacion  Años\n",
       "0     Afghanistan    8425333  1952\n",
       "1     Afghanistan    9240934  1957\n",
       "2     Afghanistan   10267083  1962\n",
       "3     Afghanistan   11537966  1967\n",
       "4     Afghanistan   13079460  1972\n",
       "...           ...        ...   ...\n",
       "1699     Zimbabwe    9216418  1987\n",
       "1700     Zimbabwe   10704340  1992\n",
       "1701     Zimbabwe   11404948  1997\n",
       "1702     Zimbabwe   11926563  2002\n",
       "1703     Zimbabwe   12311143  2007\n",
       "\n",
       "[1704 rows x 3 columns]"
      ]
     },
     "execution_count": 48,
     "metadata": {},
     "output_type": "execute_result"
    }
   ],
   "source": [
    "populations_pd = pd.DataFrame({   #Dataframe a partir de pandas\n",
    "    'Pais': data.country,\n",
    "    'Poblacion': data.population,\n",
    "    'Años': data.year\n",
    "})\n",
    "\n",
    "populations_pd"
   ]
  },
  {
   "cell_type": "code",
   "execution_count": 8,
   "metadata": {},
   "outputs": [
    {
     "name": "stdout",
     "output_type": "stream",
     "text": [
      "#################################################\n",
      "##### MEDIA , MINIMO Y MAXIMO DE POBLACIÓN ####\n",
      "#################################################\n",
      "La media de población es : 29601212.324530516\n",
      "Desviación Estandar : 106126742.55491112\n",
      "Población Minima encontrada en los datos :  60011\n",
      "Población Maxima encontrada en los datos :  1318683096\n",
      "\n"
     ]
    }
   ],
   "source": [
    "print(\"#################################################\")\n",
    "print(\"##### MEDIA , MINIMO Y MAXIMO DE POBLACIÓN ####\")\n",
    "print(\"#################################################\")\n",
    "print(\"La media de población es :\", populations.mean())\n",
    "print(\"Desviación Estandar :\",populations.std())\n",
    "print(\"Población Minima encontrada en los datos : \",populations.min())\n",
    "print(\"Población Maxima encontrada en los datos : \",populations.max())"
   ]
  },
  {
   "cell_type": "code",
   "execution_count": 12,
   "metadata": {},
   "outputs": [
    {
     "name": "stdout",
     "output_type": "stream",
     "text": [
      "#######################################################\n",
      "##### HALLANDO EL PAIS CON MENOR Y MAYOR POBLACIÓN ####\n",
      "#######################################################\n",
      "País :  Sao Tome and Principe - Población : 60011 - Año 1952\n",
      "País :  China - Población : 1318683096 - Año 2007\n"
     ]
    }
   ],
   "source": [
    "popLen = len(populations)\n",
    "popMin = populations.min()\n",
    "popMinArg = populations.argmin()\n",
    "popMaxArg = populations.argmax()\n",
    "countryNameMin = data.country[popMinArg]\n",
    "countryNameMax = data.country[popMaxArg]\n",
    "ageMin = data.year[popMinArg]\n",
    "popMax = populations.max()\n",
    "popMaxArg = populations.argmax()\n",
    "ageMax = data.year[popMaxArg]\n",
    "print(\"#######################################################\")\n",
    "print(\"##### HALLANDO EL PAIS CON MENOR Y MAYOR POBLACIÓN ####\")\n",
    "print(\"#######################################################\")\n",
    "print(\"País : \",countryNameMin,\"-\",\"Población :\",popMin,\"-\",\"Año\",ageMin)\n",
    "print(\"País : \",countryNameMax,\"-\",\"Población :\",popMax,\"-\",\"Año\",ageMax)"
   ]
  },
  {
   "cell_type": "code",
   "execution_count": 14,
   "metadata": {},
   "outputs": [
    {
     "data": {
      "text/html": [
       "<div>\n",
       "<style scoped>\n",
       "    .dataframe tbody tr th:only-of-type {\n",
       "        vertical-align: middle;\n",
       "    }\n",
       "\n",
       "    .dataframe tbody tr th {\n",
       "        vertical-align: top;\n",
       "    }\n",
       "\n",
       "    .dataframe thead th {\n",
       "        text-align: right;\n",
       "    }\n",
       "</style>\n",
       "<table border=\"1\" class=\"dataframe\">\n",
       "  <thead>\n",
       "    <tr style=\"text-align: right;\">\n",
       "      <th></th>\n",
       "      <th>year</th>\n",
       "      <th>population</th>\n",
       "    </tr>\n",
       "  </thead>\n",
       "  <tbody>\n",
       "    <tr>\n",
       "      <th>count</th>\n",
       "      <td>1704.00000</td>\n",
       "      <td>1.704000e+03</td>\n",
       "    </tr>\n",
       "    <tr>\n",
       "      <th>mean</th>\n",
       "      <td>1979.50000</td>\n",
       "      <td>2.960121e+07</td>\n",
       "    </tr>\n",
       "    <tr>\n",
       "      <th>std</th>\n",
       "      <td>17.26533</td>\n",
       "      <td>1.061579e+08</td>\n",
       "    </tr>\n",
       "    <tr>\n",
       "      <th>min</th>\n",
       "      <td>1952.00000</td>\n",
       "      <td>6.001100e+04</td>\n",
       "    </tr>\n",
       "    <tr>\n",
       "      <th>25%</th>\n",
       "      <td>1965.75000</td>\n",
       "      <td>2.793664e+06</td>\n",
       "    </tr>\n",
       "    <tr>\n",
       "      <th>50%</th>\n",
       "      <td>1979.50000</td>\n",
       "      <td>7.023596e+06</td>\n",
       "    </tr>\n",
       "    <tr>\n",
       "      <th>75%</th>\n",
       "      <td>1993.25000</td>\n",
       "      <td>1.958522e+07</td>\n",
       "    </tr>\n",
       "    <tr>\n",
       "      <th>max</th>\n",
       "      <td>2007.00000</td>\n",
       "      <td>1.318683e+09</td>\n",
       "    </tr>\n",
       "  </tbody>\n",
       "</table>\n",
       "</div>"
      ],
      "text/plain": [
       "             year    population\n",
       "count  1704.00000  1.704000e+03\n",
       "mean   1979.50000  2.960121e+07\n",
       "std      17.26533  1.061579e+08\n",
       "min    1952.00000  6.001100e+04\n",
       "25%    1965.75000  2.793664e+06\n",
       "50%    1979.50000  7.023596e+06\n",
       "75%    1993.25000  1.958522e+07\n",
       "max    2007.00000  1.318683e+09"
      ]
     },
     "execution_count": 14,
     "metadata": {},
     "output_type": "execute_result"
    }
   ],
   "source": [
    "data.describe()"
   ]
  },
  {
   "cell_type": "code",
   "execution_count": 15,
   "metadata": {},
   "outputs": [],
   "source": [
    "%matplotlib inline\n",
    "import matplotlib.pyplot as plt\n",
    "import seaborn; seaborn.set()"
   ]
  },
  {
   "cell_type": "code",
   "execution_count": 50,
   "metadata": {},
   "outputs": [
    {
     "data": {
      "image/png": "[encoded data removed]",
      "text/plain": [
       "<Figure size 432x288 with 1 Axes>"
      ]
     },
     "metadata": {},
     "output_type": "display_data"
    }
   ],
   "source": [
    "plt.hist(years)\n",
    "plt.title(\"Niveles de poblacíón entre 1952 - 2007\")\n",
    "plt.xlabel(\"Años\")\n",
    "plt.ylabel(\"Población en Millones\");"
   ]
  },
  {
   "cell_type": "code",
   "execution_count": 47,
   "metadata": {},
   "outputs": [
    {
     "data": {
      "image/png": "[encoded data removed]",
      "text/plain": [
       "<Figure size 432x288 with 1 Axes>"
      ]
     },
     "metadata": {},
     "output_type": "display_data"
    }
   ],
   "source": [
    "plt.hist(populations)\n",
    "plt.title(\"Niveles de poblacíon entre 1952 - 2007\")\n",
    "plt.xlabel(\"Años\")\n",
    "plt.ylabel(\"Población en Millones\");"
   ]
  },
  {
   "cell_type": "code",
   "execution_count": 39,
   "metadata": {},
   "outputs": [
    {
     "data": {
      "text/html": [
       "<div>\n",
       "<style scoped>\n",
       "    .dataframe tbody tr th:only-of-type {\n",
       "        vertical-align: middle;\n",
       "    }\n",
       "\n",
       "    .dataframe tbody tr th {\n",
       "        vertical-align: top;\n",
       "    }\n",
       "\n",
       "    .dataframe thead th {\n",
       "        text-align: right;\n",
       "    }\n",
       "</style>\n",
       "<table border=\"1\" class=\"dataframe\">\n",
       "  <thead>\n",
       "    <tr style=\"text-align: right;\">\n",
       "      <th></th>\n",
       "      <th>Poblacion</th>\n",
       "    </tr>\n",
       "  </thead>\n",
       "  <tbody>\n",
       "    <tr>\n",
       "      <th>0</th>\n",
       "      <td>8425333</td>\n",
       "    </tr>\n",
       "    <tr>\n",
       "      <th>1</th>\n",
       "      <td>9240934</td>\n",
       "    </tr>\n",
       "    <tr>\n",
       "      <th>2</th>\n",
       "      <td>10267083</td>\n",
       "    </tr>\n",
       "    <tr>\n",
       "      <th>3</th>\n",
       "      <td>11537966</td>\n",
       "    </tr>\n",
       "    <tr>\n",
       "      <th>4</th>\n",
       "      <td>13079460</td>\n",
       "    </tr>\n",
       "    <tr>\n",
       "      <th>...</th>\n",
       "      <td>...</td>\n",
       "    </tr>\n",
       "    <tr>\n",
       "      <th>1699</th>\n",
       "      <td>9216418</td>\n",
       "    </tr>\n",
       "    <tr>\n",
       "      <th>1700</th>\n",
       "      <td>10704340</td>\n",
       "    </tr>\n",
       "    <tr>\n",
       "      <th>1701</th>\n",
       "      <td>11404948</td>\n",
       "    </tr>\n",
       "    <tr>\n",
       "      <th>1702</th>\n",
       "      <td>11926563</td>\n",
       "    </tr>\n",
       "    <tr>\n",
       "      <th>1703</th>\n",
       "      <td>12311143</td>\n",
       "    </tr>\n",
       "  </tbody>\n",
       "</table>\n",
       "<p>1704 rows × 1 columns</p>\n",
       "</div>"
      ],
      "text/plain": [
       "      Poblacion\n",
       "0       8425333\n",
       "1       9240934\n",
       "2      10267083\n",
       "3      11537966\n",
       "4      13079460\n",
       "...         ...\n",
       "1699    9216418\n",
       "1700   10704340\n",
       "1701   11404948\n",
       "1702   11926563\n",
       "1703   12311143\n",
       "\n",
       "[1704 rows x 1 columns]"
      ]
     },
     "execution_count": 39,
     "metadata": {},
     "output_type": "execute_result"
    }
   ],
   "source": [
    "pd.DataFrame(populations,columns=['Poblacion'])"
   ]
  },
  {
   "cell_type": "code",
   "execution_count": 45,
   "metadata": {},
   "outputs": [
    {
     "data": {
      "image/png": "[encoded data removed]",
      "text/plain": [
       "<Figure size 432x288 with 1 Axes>"
      ]
     },
     "metadata": {},
     "output_type": "display_data"
    }
   ],
   "source": [
    "anios = pob_Bob['year'].unique() \n",
    "pop_ar = pob_Ar['population'].values #Valores poblacionales de Argentina\n",
    "pop_bo = pob_Bob['population'].values #Valores poblacionales de Bolivia\n",
    "pop_pe = pob_Pe['population'].values  #Valores poblacionales de Peru\n",
    "pop_bra = pob_Br['population'].values #Valores poblacionales de Brasil \n",
    "pop_ve = pob_Ve['population'].values  #Valores poblacionales de Venezuela\n",
    " \n",
    "df_plot = pd.DataFrame({'Argentina': pop_ar,'Bolivia': pop_bo, 'Peru': pop_pe, 'Brazil': pop_bra, 'Venezuela': pop_ve}, index=anios)\n",
    "df_plot.plot(kind='bar') ;"
   ]
  },
  {
   "cell_type": "code",
   "execution_count": 61,
   "metadata": {},
   "outputs": [
    {
     "data": {
      "image/png": "[encoded data removed]",
      "text/plain": [
       "<Figure size 432x288 with 1 Axes>"
      ]
     },
     "metadata": {},
     "output_type": "display_data"
    }
   ],
   "source": [
    "#Analizando valores atipicos, mediante outliers\n",
    "pob = pd.read_csv('data/poblacion.csv ')['population']\n",
    "population_unique, counts = np.unique(pob, return_counts=True)\n",
    " \n",
    "sizes = counts*100\n",
    "colors = ['blue']*len(population_unique)\n",
    "colors[-1] = 'red'\n",
    " \n",
    "plt.axhline(1, color='k', linestyle='-')\n",
    "plt.scatter(population_unique, np.ones(len(population_unique)), s=sizes, color=colors)\n",
    "plt.yticks([])\n",
    "plt.show()"
   ]
  },
  {
   "cell_type": "code",
   "execution_count": null,
   "metadata": {},
   "outputs": [],
   "source": []
  }
 ],
 "metadata": {
  "kernelspec": {
   "display_name": "Python 3",
   "language": "python",
   "name": "python3"
  },
  "language_info": {
   "codemirror_mode": {
    "name": "ipython",
    "version": 3
   },
   "file_extension": ".py",
   "mimetype": "text/x-python",
   "name": "python",
   "nbconvert_exporter": "python",
   "pygments_lexer": "ipython3",
   "version": "3.8.3"
  }
 },
 "nbformat": 4,
 "nbformat_minor": 4
}
