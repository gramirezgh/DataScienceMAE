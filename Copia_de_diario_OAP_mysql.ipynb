{
  "nbformat": 4,
  "nbformat_minor": 0,
  "metadata": {
    "colab": {
      "name": "Copia de diario OAP mysql.ipynb",
      "provenance": [],
      "toc_visible": true,
      "include_colab_link": true
    },
    "kernelspec": {
      "display_name": "Python 3",
      "language": "python",
      "name": "python3"
    },
    "language_info": {
      "codemirror_mode": {
        "name": "ipython",
        "version": 3
      },
      "file_extension": ".py",
      "mimetype": "text/x-python",
      "name": "python",
      "nbconvert_exporter": "python",
      "pygments_lexer": "ipython3",
      "version": "3.6.1"
    }
  },
  "cells": [
    {
      "cell_type": "markdown",
      "metadata": {
        "id": "view-in-github",
        "colab_type": "text"
      },
      "source": [
        "<a href=\"https://colab.research.google.com/github/gramirezgh/DataScienceMAE/blob/master/Copia_de_diario_OAP_mysql.ipynb\" target=\"_parent\"><img src=\"https://colab.research.google.com/assets/colab-badge.svg\" alt=\"Open In Colab\"/></a>"
      ]
    },
    {
      "cell_type": "code",
      "metadata": {
        "colab": {
          "base_uri": "https://localhost:8080/"
        },
        "id": "88vIYTX3LnEM",
        "outputId": "bed6dfc3-838b-4d08-b933-08e75aa347cd"
      },
      "source": [
        "!pip install requests"
      ],
      "execution_count": null,
      "outputs": [
        {
          "output_type": "stream",
          "text": [
            "Requirement already satisfied: requests in /usr/local/lib/python3.7/dist-packages (2.23.0)\n",
            "Requirement already satisfied: urllib3!=1.25.0,!=1.25.1,<1.26,>=1.21.1 in /usr/local/lib/python3.7/dist-packages (from requests) (1.24.3)\n",
            "Requirement already satisfied: certifi>=2017.4.17 in /usr/local/lib/python3.7/dist-packages (from requests) (2020.12.5)\n",
            "Requirement already satisfied: idna<3,>=2.5 in /usr/local/lib/python3.7/dist-packages (from requests) (2.10)\n",
            "Requirement already satisfied: chardet<4,>=3.0.2 in /usr/local/lib/python3.7/dist-packages (from requests) (3.0.4)\n"
          ],
          "name": "stdout"
        }
      ]
    },
    {
      "cell_type": "markdown",
      "metadata": {
        "id": "ir5BEcECgPGO"
      },
      "source": [
        "# Nueva sección"
      ]
    },
    {
      "cell_type": "code",
      "metadata": {
        "colab": {
          "base_uri": "https://localhost:8080/"
        },
        "id": "uVLheGv2LnER",
        "outputId": "62a47c13-56ee-4135-f92d-0f3a106c1fd1"
      },
      "source": [
        "!pip install beautifulsoup4"
      ],
      "execution_count": null,
      "outputs": [
        {
          "output_type": "stream",
          "text": [
            "Requirement already satisfied: beautifulsoup4 in /usr/local/lib/python3.7/dist-packages (4.6.3)\n"
          ],
          "name": "stdout"
        }
      ]
    },
    {
      "cell_type": "markdown",
      "metadata": {
        "id": "IER4Vns1LnET"
      },
      "source": [
        "### Import the modules"
      ]
    },
    {
      "cell_type": "code",
      "metadata": {
        "id": "MNd4cMCqLnEU"
      },
      "source": [
        "import numpy as np\n",
        "import pandas as pd\n",
        "import requests\n",
        "import bs4\n",
        "import lxml.etree as xml\n",
        "import json\n"
      ],
      "execution_count": null,
      "outputs": []
    },
    {
      "cell_type": "code",
      "metadata": {
        "id": "umJcZBBc1Wem",
        "colab": {
          "base_uri": "https://localhost:8080/"
        },
        "outputId": "9286c687-fe47-43df-e5a2-ffd647d0b2e0"
      },
      "source": [
        "import time\n",
        "from datetime import date\n",
        "from google.colab import drive\n",
        "drive.mount('/content/drive')"
      ],
      "execution_count": null,
      "outputs": [
        {
          "output_type": "stream",
          "text": [
            "Drive already mounted at /content/drive; to attempt to forcibly remount, call drive.mount(\"/content/drive\", force_remount=True).\n"
          ],
          "name": "stdout"
        }
      ]
    },
    {
      "cell_type": "code",
      "metadata": {
        "colab": {
          "base_uri": "https://localhost:8080/"
        },
        "id": "TiQIesL_vOkC",
        "outputId": "0893f889-0093-4710-d5bc-ba57018190d0"
      },
      "source": [
        " !pip install PyMySQL\n",
        " !pip install mysql-connector-python"
      ],
      "execution_count": null,
      "outputs": [
        {
          "output_type": "stream",
          "text": [
            "Collecting PyMySQL\n",
            "\u001b[?25l  Downloading https://files.pythonhosted.org/packages/4f/52/a115fe175028b058df353c5a3d5290b71514a83f67078a6482cff24d6137/PyMySQL-1.0.2-py3-none-any.whl (43kB)\n",
            "\r\u001b[K     |███████▌                        | 10kB 15.6MB/s eta 0:00:01\r\u001b[K     |███████████████                 | 20kB 21.8MB/s eta 0:00:01\r\u001b[K     |██████████████████████▍         | 30kB 14.9MB/s eta 0:00:01\r\u001b[K     |██████████████████████████████  | 40kB 10.1MB/s eta 0:00:01\r\u001b[K     |████████████████████████████████| 51kB 4.0MB/s \n",
            "\u001b[?25hInstalling collected packages: PyMySQL\n",
            "Successfully installed PyMySQL-1.0.2\n",
            "Collecting mysql-connector-python\n",
            "\u001b[?25l  Downloading https://files.pythonhosted.org/packages/5d/69/aa9545022bc11029e7b45cb9c60ab8e6ce064c67a6cdff23081ded67d216/mysql_connector_python-8.0.24-cp37-cp37m-manylinux1_x86_64.whl (25.4MB)\n",
            "\u001b[K     |████████████████████████████████| 25.4MB 1.4MB/s \n",
            "\u001b[?25hRequirement already satisfied: protobuf>=3.0.0 in /usr/local/lib/python3.7/dist-packages (from mysql-connector-python) (3.12.4)\n",
            "Requirement already satisfied: six>=1.9 in /usr/local/lib/python3.7/dist-packages (from protobuf>=3.0.0->mysql-connector-python) (1.15.0)\n",
            "Requirement already satisfied: setuptools in /usr/local/lib/python3.7/dist-packages (from protobuf>=3.0.0->mysql-connector-python) (56.0.0)\n",
            "Installing collected packages: mysql-connector-python\n",
            "Successfully installed mysql-connector-python-8.0.24\n"
          ],
          "name": "stdout"
        }
      ]
    },
    {
      "cell_type": "code",
      "metadata": {
        "id": "Uf0mIm1TweHE"
      },
      "source": [
        "import pymysql"
      ],
      "execution_count": null,
      "outputs": []
    },
    {
      "cell_type": "code",
      "metadata": {
        "id": "YqUE8mY-llTH"
      },
      "source": [
        "#login\n",
        "sessionId = 'xxxxx'\n",
        "def getSessionId():\n",
        "  url_login = \"http://190.181.15.212:8080/precios/rest/loginService/autenticate\"\n",
        "  data_login = {\"username\":\"jsuxo.dapro@gmail.com\",\"pass\":\"12345\"}\n",
        "  headers_login =  {\n",
        "      'Connection': 'keep-alive',    \n",
        "      'Cache-Control': 'no-cache',\n",
        "      'Accept': 'application/json, text/plain, */*',\n",
        "      'Content-Type': 'application/json;charset=UTF-8',    \n",
        "  }\n",
        "  response_login = requests.post(url_login,data=json.dumps(data_login),headers=headers_login)\n",
        "  global sessionId  \n",
        "  sessionId = response_login.cookies['JSESSIONID']\n",
        "  print(sessionId)\n",
        "\n"
      ],
      "execution_count": null,
      "outputs": []
    },
    {
      "cell_type": "code",
      "metadata": {
        "colab": {
          "base_uri": "https://localhost:8080/",
          "height": 53
        },
        "id": "UsFul6eTpV-N",
        "outputId": "b35643bc-61a4-4f21-f1b8-cfc4a0726690"
      },
      "source": [
        "getSessionId()\n",
        "sessionId"
      ],
      "execution_count": null,
      "outputs": [
        {
          "output_type": "stream",
          "text": [
            "7A43334648DEA0D323409A99BA07637D\n"
          ],
          "name": "stdout"
        },
        {
          "output_type": "execute_result",
          "data": {
            "application/vnd.google.colaboratory.intrinsic+json": {
              "type": "string"
            },
            "text/plain": [
              "'7A43334648DEA0D323409A99BA07637D'"
            ]
          },
          "metadata": {
            "tags": []
          },
          "execution_count": 9
        }
      ]
    },
    {
      "cell_type": "code",
      "metadata": {
        "id": "b3N3NFcjhPjK"
      },
      "source": [
        "idia=1\n",
        "imes=5\n",
        "ianio=2021\n",
        "hoy = date.today()\n",
        "''' fdia=hoy.day\n",
        "fmes=hoy.month\n",
        "fanio=hoy.year '''\n",
        "fdia=7\n",
        "fmes=5\n",
        "fanio=2021"
      ],
      "execution_count": null,
      "outputs": []
    },
    {
      "cell_type": "code",
      "metadata": {
        "id": "lm2KLLCcouGn"
      },
      "source": [
        "def getProducto(dep,prod,u_cant,u_desc):\n",
        "  URL = \"http://190.181.15.212:8080/precios/rest/reportService/getPrices\"\n",
        "  data = {\"f\":{\"day\":{\"id\":0,\"sd\":{\"d\":idia,\"m\":imes,\"y\":ianio},\"ed\":{\"d\":fdia,\"m\":fmes,\"y\":fanio},\"a\":\"true\"},\"treg\":{\"prod\":\"true\",\"entity\":\"false\"}},\"p\":{\"id\":prod,\"n\":\"Carne de Pollo entero eviscerado\",\"ac\":{\"id\":dep,\"n\":\"nombre depto\"},\"tp\":{\"id\":1,\"n\":\"Mayorista\"},\"am\":u_cant,\"wa\":{\"id\":105,\"n\":\"Capital\"},\"tm\":{\"id\":2,\"n\":u_desc,\"m\":{\"id\":1,\"n\":\"PESO\"}}},\"b\":\"false\"}\n",
        "  headers =  {\n",
        "      'Connection': 'keep-alive',    \n",
        "      'Cache-Control': 'no-cache',\n",
        "      'Accept': 'application/json, text/plain, */*',\n",
        "      'Content-Type': 'application/json;charset=UTF-8',    \n",
        "  }\n",
        "  cookies = {\n",
        "      'JSESSIONID': sessionId,\n",
        "      'isConnect': 'true',\n",
        "  }\n",
        "  response = requests.post(URL, data=json.dumps(data),headers=headers,cookies=cookies,verify=False)\n",
        "  if response.status_code != 200 and response.status_code != 400:\n",
        "    print('Error al acceder',response.status_code)\n",
        "  if response.status_code == 200:\n",
        "    df = pd.DataFrame(response.json())    \n",
        "    del df['dm']\n",
        "    df['dep'],df['prod'] = dep,prod,\n",
        "    return df\n",
        "  return []\n"
      ],
      "execution_count": null,
      "outputs": []
    },
    {
      "cell_type": "code",
      "metadata": {
        "colab": {
          "base_uri": "https://localhost:8080/",
          "height": 197
        },
        "id": "u72tJbr0sWH_",
        "outputId": "4daf36bc-65ed-4777-c66c-c8567e94a7fa"
      },
      "source": [
        "resp = getProducto(2,24,100,'unid.')\n",
        "resp"
      ],
      "execution_count": null,
      "outputs": [
        {
          "output_type": "execute_result",
          "data": {
            "text/html": [
              "<div>\n",
              "<style scoped>\n",
              "    .dataframe tbody tr th:only-of-type {\n",
              "        vertical-align: middle;\n",
              "    }\n",
              "\n",
              "    .dataframe tbody tr th {\n",
              "        vertical-align: top;\n",
              "    }\n",
              "\n",
              "    .dataframe thead th {\n",
              "        text-align: right;\n",
              "    }\n",
              "</style>\n",
              "<table border=\"1\" class=\"dataframe\">\n",
              "  <thead>\n",
              "    <tr style=\"text-align: right;\">\n",
              "      <th></th>\n",
              "      <th>d</th>\n",
              "      <th>p</th>\n",
              "      <th>dep</th>\n",
              "      <th>prod</th>\n",
              "    </tr>\n",
              "  </thead>\n",
              "  <tbody>\n",
              "    <tr>\n",
              "      <th>0</th>\n",
              "      <td>2021-05-03</td>\n",
              "      <td>35.0</td>\n",
              "      <td>2</td>\n",
              "      <td>24</td>\n",
              "    </tr>\n",
              "    <tr>\n",
              "      <th>1</th>\n",
              "      <td>2021-05-04</td>\n",
              "      <td>35.0</td>\n",
              "      <td>2</td>\n",
              "      <td>24</td>\n",
              "    </tr>\n",
              "    <tr>\n",
              "      <th>2</th>\n",
              "      <td>2021-05-05</td>\n",
              "      <td>35.0</td>\n",
              "      <td>2</td>\n",
              "      <td>24</td>\n",
              "    </tr>\n",
              "    <tr>\n",
              "      <th>3</th>\n",
              "      <td>2021-05-06</td>\n",
              "      <td>35.0</td>\n",
              "      <td>2</td>\n",
              "      <td>24</td>\n",
              "    </tr>\n",
              "    <tr>\n",
              "      <th>4</th>\n",
              "      <td>2021-05-07</td>\n",
              "      <td>37.5</td>\n",
              "      <td>2</td>\n",
              "      <td>24</td>\n",
              "    </tr>\n",
              "  </tbody>\n",
              "</table>\n",
              "</div>"
            ],
            "text/plain": [
              "            d     p  dep  prod\n",
              "0  2021-05-03  35.0    2    24\n",
              "1  2021-05-04  35.0    2    24\n",
              "2  2021-05-05  35.0    2    24\n",
              "3  2021-05-06  35.0    2    24\n",
              "4  2021-05-07  37.5    2    24"
            ]
          },
          "metadata": {
            "tags": []
          },
          "execution_count": 12
        }
      ]
    },
    {
      "cell_type": "code",
      "metadata": {
        "id": "0g2FWtFKTdn8"
      },
      "source": [
        "def getUnidadDesc(s):  \n",
        "  vs = s.split(' ')\n",
        "  return vs[len(vs)-1]\n",
        "\n",
        "def getUnidadCant(s):\n",
        "  vs = s.split(' ')\n",
        "  val = vs[len(vs)-2]\n",
        "  try:\n",
        "    val = int(val)\n",
        "  except:\n",
        "    pass\n",
        "  if type(val) == int:\n",
        "    return val\n",
        "  else:\n",
        "    return 1\n",
        "\n",
        "diccCodOap = pd.read_excel (\"/content/drive/My Drive/Colab Notebooks/data/precio/dicc_diarios_siip_oap.xlsx\")\n",
        "diccCodOap.dropna(inplace=True)\n",
        "diccCodOap['unidad_desc'], diccCodOap['unidad_cant']= diccCodOap['unidad_oap'].apply(lambda x: getUnidadDesc(x)),diccCodOap['unidad_oap'].apply(lambda x: getUnidadCant(x))\n",
        "#codOap = diccCodOap[diccCodOap['cod_oap'].notnull()]\n",
        "\n"
      ],
      "execution_count": null,
      "outputs": []
    },
    {
      "cell_type": "code",
      "metadata": {
        "id": "2bpnR8O31JtT"
      },
      "source": [
        "dep = (1,2,3,4,5,6,7,8,9,10080) #cob7,cbba4,alto10080,lp2,or1,potosi3,sc9,sucre5,tar6,trinid8\n",
        "data = pd.DataFrame(columns=['d','p','dep'])\n",
        "\n",
        "for index,r in diccCodOap.iterrows():\n",
        "  prod= int(r['cod_oap'])\n",
        "  u_cant =r['unidad_cant']\n",
        "  u_desc =r['unidad_desc']  \n",
        "  for d in dep:\n",
        "    rows = getProducto(d,prod,u_cant,u_desc)\n",
        "    if len(rows)>0:\n",
        "      data = data.append(rows, ignore_index=True)\n"
      ],
      "execution_count": null,
      "outputs": []
    },
    {
      "cell_type": "code",
      "metadata": {
        "id": "-xGvZ9cHyCYz"
      },
      "source": [
        "data['prod']= (data['prod']).astype(int)\n",
        "df1 = data.merge(diccCodOap, left_on='prod', right_on='cod_oap')\n",
        "df1 = df1.replace(\"\",\"NaN\")\n",
        "df1.dropna(inplace=True)\n",
        "df1=df1[df1.p !=0]\n"
      ],
      "execution_count": null,
      "outputs": []
    },
    {
      "cell_type": "code",
      "metadata": {
        "colab": {
          "base_uri": "https://localhost:8080/",
          "height": 406
        },
        "id": "ZQrAy53qNt91",
        "outputId": "51d2c30f-d418-44e0-abd4-8d895d374909"
      },
      "source": [
        "df1"
      ],
      "execution_count": null,
      "outputs": [
        {
          "output_type": "execute_result",
          "data": {
            "text/html": [
              "<div>\n",
              "<style scoped>\n",
              "    .dataframe tbody tr th:only-of-type {\n",
              "        vertical-align: middle;\n",
              "    }\n",
              "\n",
              "    .dataframe tbody tr th {\n",
              "        vertical-align: top;\n",
              "    }\n",
              "\n",
              "    .dataframe thead th {\n",
              "        text-align: right;\n",
              "    }\n",
              "</style>\n",
              "<table border=\"1\" class=\"dataframe\">\n",
              "  <thead>\n",
              "    <tr style=\"text-align: right;\">\n",
              "      <th></th>\n",
              "      <th>d</th>\n",
              "      <th>p</th>\n",
              "      <th>dep</th>\n",
              "      <th>prod</th>\n",
              "      <th>cod_producto</th>\n",
              "      <th>desc_producto</th>\n",
              "      <th>desc_producto_oap</th>\n",
              "      <th>unidad_oap</th>\n",
              "      <th>cod_oap</th>\n",
              "      <th>unidad_desc</th>\n",
              "      <th>unidad_cant</th>\n",
              "    </tr>\n",
              "  </thead>\n",
              "  <tbody>\n",
              "    <tr>\n",
              "      <th>0</th>\n",
              "      <td>2021-05-03</td>\n",
              "      <td>7.5</td>\n",
              "      <td>1</td>\n",
              "      <td>38</td>\n",
              "      <td>1</td>\n",
              "      <td>Aceite vegetal a granel nacional</td>\n",
              "      <td>Aceite vegetal a granel</td>\n",
              "      <td>Lt.</td>\n",
              "      <td>38.0</td>\n",
              "      <td>Lt.</td>\n",
              "      <td>1</td>\n",
              "    </tr>\n",
              "    <tr>\n",
              "      <th>1</th>\n",
              "      <td>2021-05-04</td>\n",
              "      <td>7.5</td>\n",
              "      <td>1</td>\n",
              "      <td>38</td>\n",
              "      <td>1</td>\n",
              "      <td>Aceite vegetal a granel nacional</td>\n",
              "      <td>Aceite vegetal a granel</td>\n",
              "      <td>Lt.</td>\n",
              "      <td>38.0</td>\n",
              "      <td>Lt.</td>\n",
              "      <td>1</td>\n",
              "    </tr>\n",
              "    <tr>\n",
              "      <th>2</th>\n",
              "      <td>2021-05-05</td>\n",
              "      <td>7.5</td>\n",
              "      <td>1</td>\n",
              "      <td>38</td>\n",
              "      <td>1</td>\n",
              "      <td>Aceite vegetal a granel nacional</td>\n",
              "      <td>Aceite vegetal a granel</td>\n",
              "      <td>Lt.</td>\n",
              "      <td>38.0</td>\n",
              "      <td>Lt.</td>\n",
              "      <td>1</td>\n",
              "    </tr>\n",
              "    <tr>\n",
              "      <th>3</th>\n",
              "      <td>2021-05-06</td>\n",
              "      <td>7.5</td>\n",
              "      <td>1</td>\n",
              "      <td>38</td>\n",
              "      <td>1</td>\n",
              "      <td>Aceite vegetal a granel nacional</td>\n",
              "      <td>Aceite vegetal a granel</td>\n",
              "      <td>Lt.</td>\n",
              "      <td>38.0</td>\n",
              "      <td>Lt.</td>\n",
              "      <td>1</td>\n",
              "    </tr>\n",
              "    <tr>\n",
              "      <th>4</th>\n",
              "      <td>2021-05-07</td>\n",
              "      <td>7.5</td>\n",
              "      <td>1</td>\n",
              "      <td>38</td>\n",
              "      <td>1</td>\n",
              "      <td>Aceite vegetal a granel nacional</td>\n",
              "      <td>Aceite vegetal a granel</td>\n",
              "      <td>Lt.</td>\n",
              "      <td>38.0</td>\n",
              "      <td>Lt.</td>\n",
              "      <td>1</td>\n",
              "    </tr>\n",
              "    <tr>\n",
              "      <th>...</th>\n",
              "      <td>...</td>\n",
              "      <td>...</td>\n",
              "      <td>...</td>\n",
              "      <td>...</td>\n",
              "      <td>...</td>\n",
              "      <td>...</td>\n",
              "      <td>...</td>\n",
              "      <td>...</td>\n",
              "      <td>...</td>\n",
              "      <td>...</td>\n",
              "      <td>...</td>\n",
              "    </tr>\n",
              "    <tr>\n",
              "      <th>3038</th>\n",
              "      <td>2021-05-03</td>\n",
              "      <td>14.5</td>\n",
              "      <td>10080</td>\n",
              "      <td>10041</td>\n",
              "      <td>39</td>\n",
              "      <td>Carne de Pollo entero eviscerado SOFIA</td>\n",
              "      <td>Carne de Pollo entero eviscerado SOFIA</td>\n",
              "      <td>Kg.</td>\n",
              "      <td>10041.0</td>\n",
              "      <td>Kg.</td>\n",
              "      <td>1</td>\n",
              "    </tr>\n",
              "    <tr>\n",
              "      <th>3039</th>\n",
              "      <td>2021-05-04</td>\n",
              "      <td>14.5</td>\n",
              "      <td>10080</td>\n",
              "      <td>10041</td>\n",
              "      <td>39</td>\n",
              "      <td>Carne de Pollo entero eviscerado SOFIA</td>\n",
              "      <td>Carne de Pollo entero eviscerado SOFIA</td>\n",
              "      <td>Kg.</td>\n",
              "      <td>10041.0</td>\n",
              "      <td>Kg.</td>\n",
              "      <td>1</td>\n",
              "    </tr>\n",
              "    <tr>\n",
              "      <th>3040</th>\n",
              "      <td>2021-05-05</td>\n",
              "      <td>14.5</td>\n",
              "      <td>10080</td>\n",
              "      <td>10041</td>\n",
              "      <td>39</td>\n",
              "      <td>Carne de Pollo entero eviscerado SOFIA</td>\n",
              "      <td>Carne de Pollo entero eviscerado SOFIA</td>\n",
              "      <td>Kg.</td>\n",
              "      <td>10041.0</td>\n",
              "      <td>Kg.</td>\n",
              "      <td>1</td>\n",
              "    </tr>\n",
              "    <tr>\n",
              "      <th>3041</th>\n",
              "      <td>2021-05-06</td>\n",
              "      <td>14.5</td>\n",
              "      <td>10080</td>\n",
              "      <td>10041</td>\n",
              "      <td>39</td>\n",
              "      <td>Carne de Pollo entero eviscerado SOFIA</td>\n",
              "      <td>Carne de Pollo entero eviscerado SOFIA</td>\n",
              "      <td>Kg.</td>\n",
              "      <td>10041.0</td>\n",
              "      <td>Kg.</td>\n",
              "      <td>1</td>\n",
              "    </tr>\n",
              "    <tr>\n",
              "      <th>3042</th>\n",
              "      <td>2021-05-07</td>\n",
              "      <td>14.5</td>\n",
              "      <td>10080</td>\n",
              "      <td>10041</td>\n",
              "      <td>39</td>\n",
              "      <td>Carne de Pollo entero eviscerado SOFIA</td>\n",
              "      <td>Carne de Pollo entero eviscerado SOFIA</td>\n",
              "      <td>Kg.</td>\n",
              "      <td>10041.0</td>\n",
              "      <td>Kg.</td>\n",
              "      <td>1</td>\n",
              "    </tr>\n",
              "  </tbody>\n",
              "</table>\n",
              "<p>3043 rows × 11 columns</p>\n",
              "</div>"
            ],
            "text/plain": [
              "               d     p    dep  ...  cod_oap  unidad_desc unidad_cant\n",
              "0     2021-05-03   7.5      1  ...     38.0          Lt.           1\n",
              "1     2021-05-04   7.5      1  ...     38.0          Lt.           1\n",
              "2     2021-05-05   7.5      1  ...     38.0          Lt.           1\n",
              "3     2021-05-06   7.5      1  ...     38.0          Lt.           1\n",
              "4     2021-05-07   7.5      1  ...     38.0          Lt.           1\n",
              "...          ...   ...    ...  ...      ...          ...         ...\n",
              "3038  2021-05-03  14.5  10080  ...  10041.0          Kg.           1\n",
              "3039  2021-05-04  14.5  10080  ...  10041.0          Kg.           1\n",
              "3040  2021-05-05  14.5  10080  ...  10041.0          Kg.           1\n",
              "3041  2021-05-06  14.5  10080  ...  10041.0          Kg.           1\n",
              "3042  2021-05-07  14.5  10080  ...  10041.0          Kg.           1\n",
              "\n",
              "[3043 rows x 11 columns]"
            ]
          },
          "metadata": {
            "tags": []
          },
          "execution_count": 16
        }
      ]
    },
    {
      "cell_type": "code",
      "metadata": {
        "id": "ZxZwB9CjQw5j"
      },
      "source": [
        "d1 = date.today()\n",
        "diccDepto = {5:1,2:2,4:3,1:4,3:5,6:6,9:7,8:8,7:9,10080:10}\n",
        "df1['gestion'],df1['mes'],df1['dia'],df1['fecha_act'],df1['cod_depto'] = df1['d'].astype(str).str[0:4],(df1['d'].astype(str).str[5:7]).astype(int),(df1['d'].astype(str).str[8:10]).astype(int),d1,df1['dep'].apply(lambda x: diccDepto[x])\n"
      ],
      "execution_count": null,
      "outputs": []
    },
    {
      "cell_type": "code",
      "metadata": {
        "colab": {
          "base_uri": "https://localhost:8080/",
          "height": 406
        },
        "id": "ogSlOLU6OXiV",
        "outputId": "142653fc-f288-4432-d97d-c7c4db8a82cb"
      },
      "source": [
        "df1"
      ],
      "execution_count": null,
      "outputs": [
        {
          "output_type": "execute_result",
          "data": {
            "text/html": [
              "<div>\n",
              "<style scoped>\n",
              "    .dataframe tbody tr th:only-of-type {\n",
              "        vertical-align: middle;\n",
              "    }\n",
              "\n",
              "    .dataframe tbody tr th {\n",
              "        vertical-align: top;\n",
              "    }\n",
              "\n",
              "    .dataframe thead th {\n",
              "        text-align: right;\n",
              "    }\n",
              "</style>\n",
              "<table border=\"1\" class=\"dataframe\">\n",
              "  <thead>\n",
              "    <tr style=\"text-align: right;\">\n",
              "      <th></th>\n",
              "      <th>d</th>\n",
              "      <th>p</th>\n",
              "      <th>dep</th>\n",
              "      <th>prod</th>\n",
              "      <th>cod_producto</th>\n",
              "      <th>desc_producto</th>\n",
              "      <th>desc_producto_oap</th>\n",
              "      <th>unidad_oap</th>\n",
              "      <th>cod_oap</th>\n",
              "      <th>unidad_desc</th>\n",
              "      <th>unidad_cant</th>\n",
              "      <th>gestion</th>\n",
              "      <th>mes</th>\n",
              "      <th>dia</th>\n",
              "      <th>fecha_act</th>\n",
              "      <th>cod_depto</th>\n",
              "    </tr>\n",
              "  </thead>\n",
              "  <tbody>\n",
              "    <tr>\n",
              "      <th>0</th>\n",
              "      <td>2021-05-03</td>\n",
              "      <td>7.5</td>\n",
              "      <td>1</td>\n",
              "      <td>38</td>\n",
              "      <td>1</td>\n",
              "      <td>Aceite vegetal a granel nacional</td>\n",
              "      <td>Aceite vegetal a granel</td>\n",
              "      <td>Lt.</td>\n",
              "      <td>38.0</td>\n",
              "      <td>Lt.</td>\n",
              "      <td>1</td>\n",
              "      <td>2021</td>\n",
              "      <td>5</td>\n",
              "      <td>3</td>\n",
              "      <td>2021-05-07</td>\n",
              "      <td>4</td>\n",
              "    </tr>\n",
              "    <tr>\n",
              "      <th>1</th>\n",
              "      <td>2021-05-04</td>\n",
              "      <td>7.5</td>\n",
              "      <td>1</td>\n",
              "      <td>38</td>\n",
              "      <td>1</td>\n",
              "      <td>Aceite vegetal a granel nacional</td>\n",
              "      <td>Aceite vegetal a granel</td>\n",
              "      <td>Lt.</td>\n",
              "      <td>38.0</td>\n",
              "      <td>Lt.</td>\n",
              "      <td>1</td>\n",
              "      <td>2021</td>\n",
              "      <td>5</td>\n",
              "      <td>4</td>\n",
              "      <td>2021-05-07</td>\n",
              "      <td>4</td>\n",
              "    </tr>\n",
              "    <tr>\n",
              "      <th>2</th>\n",
              "      <td>2021-05-05</td>\n",
              "      <td>7.5</td>\n",
              "      <td>1</td>\n",
              "      <td>38</td>\n",
              "      <td>1</td>\n",
              "      <td>Aceite vegetal a granel nacional</td>\n",
              "      <td>Aceite vegetal a granel</td>\n",
              "      <td>Lt.</td>\n",
              "      <td>38.0</td>\n",
              "      <td>Lt.</td>\n",
              "      <td>1</td>\n",
              "      <td>2021</td>\n",
              "      <td>5</td>\n",
              "      <td>5</td>\n",
              "      <td>2021-05-07</td>\n",
              "      <td>4</td>\n",
              "    </tr>\n",
              "    <tr>\n",
              "      <th>3</th>\n",
              "      <td>2021-05-06</td>\n",
              "      <td>7.5</td>\n",
              "      <td>1</td>\n",
              "      <td>38</td>\n",
              "      <td>1</td>\n",
              "      <td>Aceite vegetal a granel nacional</td>\n",
              "      <td>Aceite vegetal a granel</td>\n",
              "      <td>Lt.</td>\n",
              "      <td>38.0</td>\n",
              "      <td>Lt.</td>\n",
              "      <td>1</td>\n",
              "      <td>2021</td>\n",
              "      <td>5</td>\n",
              "      <td>6</td>\n",
              "      <td>2021-05-07</td>\n",
              "      <td>4</td>\n",
              "    </tr>\n",
              "    <tr>\n",
              "      <th>4</th>\n",
              "      <td>2021-05-07</td>\n",
              "      <td>7.5</td>\n",
              "      <td>1</td>\n",
              "      <td>38</td>\n",
              "      <td>1</td>\n",
              "      <td>Aceite vegetal a granel nacional</td>\n",
              "      <td>Aceite vegetal a granel</td>\n",
              "      <td>Lt.</td>\n",
              "      <td>38.0</td>\n",
              "      <td>Lt.</td>\n",
              "      <td>1</td>\n",
              "      <td>2021</td>\n",
              "      <td>5</td>\n",
              "      <td>7</td>\n",
              "      <td>2021-05-07</td>\n",
              "      <td>4</td>\n",
              "    </tr>\n",
              "    <tr>\n",
              "      <th>...</th>\n",
              "      <td>...</td>\n",
              "      <td>...</td>\n",
              "      <td>...</td>\n",
              "      <td>...</td>\n",
              "      <td>...</td>\n",
              "      <td>...</td>\n",
              "      <td>...</td>\n",
              "      <td>...</td>\n",
              "      <td>...</td>\n",
              "      <td>...</td>\n",
              "      <td>...</td>\n",
              "      <td>...</td>\n",
              "      <td>...</td>\n",
              "      <td>...</td>\n",
              "      <td>...</td>\n",
              "      <td>...</td>\n",
              "    </tr>\n",
              "    <tr>\n",
              "      <th>3038</th>\n",
              "      <td>2021-05-03</td>\n",
              "      <td>14.5</td>\n",
              "      <td>10080</td>\n",
              "      <td>10041</td>\n",
              "      <td>39</td>\n",
              "      <td>Carne de Pollo entero eviscerado SOFIA</td>\n",
              "      <td>Carne de Pollo entero eviscerado SOFIA</td>\n",
              "      <td>Kg.</td>\n",
              "      <td>10041.0</td>\n",
              "      <td>Kg.</td>\n",
              "      <td>1</td>\n",
              "      <td>2021</td>\n",
              "      <td>5</td>\n",
              "      <td>3</td>\n",
              "      <td>2021-05-07</td>\n",
              "      <td>10</td>\n",
              "    </tr>\n",
              "    <tr>\n",
              "      <th>3039</th>\n",
              "      <td>2021-05-04</td>\n",
              "      <td>14.5</td>\n",
              "      <td>10080</td>\n",
              "      <td>10041</td>\n",
              "      <td>39</td>\n",
              "      <td>Carne de Pollo entero eviscerado SOFIA</td>\n",
              "      <td>Carne de Pollo entero eviscerado SOFIA</td>\n",
              "      <td>Kg.</td>\n",
              "      <td>10041.0</td>\n",
              "      <td>Kg.</td>\n",
              "      <td>1</td>\n",
              "      <td>2021</td>\n",
              "      <td>5</td>\n",
              "      <td>4</td>\n",
              "      <td>2021-05-07</td>\n",
              "      <td>10</td>\n",
              "    </tr>\n",
              "    <tr>\n",
              "      <th>3040</th>\n",
              "      <td>2021-05-05</td>\n",
              "      <td>14.5</td>\n",
              "      <td>10080</td>\n",
              "      <td>10041</td>\n",
              "      <td>39</td>\n",
              "      <td>Carne de Pollo entero eviscerado SOFIA</td>\n",
              "      <td>Carne de Pollo entero eviscerado SOFIA</td>\n",
              "      <td>Kg.</td>\n",
              "      <td>10041.0</td>\n",
              "      <td>Kg.</td>\n",
              "      <td>1</td>\n",
              "      <td>2021</td>\n",
              "      <td>5</td>\n",
              "      <td>5</td>\n",
              "      <td>2021-05-07</td>\n",
              "      <td>10</td>\n",
              "    </tr>\n",
              "    <tr>\n",
              "      <th>3041</th>\n",
              "      <td>2021-05-06</td>\n",
              "      <td>14.5</td>\n",
              "      <td>10080</td>\n",
              "      <td>10041</td>\n",
              "      <td>39</td>\n",
              "      <td>Carne de Pollo entero eviscerado SOFIA</td>\n",
              "      <td>Carne de Pollo entero eviscerado SOFIA</td>\n",
              "      <td>Kg.</td>\n",
              "      <td>10041.0</td>\n",
              "      <td>Kg.</td>\n",
              "      <td>1</td>\n",
              "      <td>2021</td>\n",
              "      <td>5</td>\n",
              "      <td>6</td>\n",
              "      <td>2021-05-07</td>\n",
              "      <td>10</td>\n",
              "    </tr>\n",
              "    <tr>\n",
              "      <th>3042</th>\n",
              "      <td>2021-05-07</td>\n",
              "      <td>14.5</td>\n",
              "      <td>10080</td>\n",
              "      <td>10041</td>\n",
              "      <td>39</td>\n",
              "      <td>Carne de Pollo entero eviscerado SOFIA</td>\n",
              "      <td>Carne de Pollo entero eviscerado SOFIA</td>\n",
              "      <td>Kg.</td>\n",
              "      <td>10041.0</td>\n",
              "      <td>Kg.</td>\n",
              "      <td>1</td>\n",
              "      <td>2021</td>\n",
              "      <td>5</td>\n",
              "      <td>7</td>\n",
              "      <td>2021-05-07</td>\n",
              "      <td>10</td>\n",
              "    </tr>\n",
              "  </tbody>\n",
              "</table>\n",
              "<p>3043 rows × 16 columns</p>\n",
              "</div>"
            ],
            "text/plain": [
              "               d     p    dep   prod  ...  mes dia   fecha_act cod_depto\n",
              "0     2021-05-03   7.5      1     38  ...    5   3  2021-05-07         4\n",
              "1     2021-05-04   7.5      1     38  ...    5   4  2021-05-07         4\n",
              "2     2021-05-05   7.5      1     38  ...    5   5  2021-05-07         4\n",
              "3     2021-05-06   7.5      1     38  ...    5   6  2021-05-07         4\n",
              "4     2021-05-07   7.5      1     38  ...    5   7  2021-05-07         4\n",
              "...          ...   ...    ...    ...  ...  ...  ..         ...       ...\n",
              "3038  2021-05-03  14.5  10080  10041  ...    5   3  2021-05-07        10\n",
              "3039  2021-05-04  14.5  10080  10041  ...    5   4  2021-05-07        10\n",
              "3040  2021-05-05  14.5  10080  10041  ...    5   5  2021-05-07        10\n",
              "3041  2021-05-06  14.5  10080  10041  ...    5   6  2021-05-07        10\n",
              "3042  2021-05-07  14.5  10080  10041  ...    5   7  2021-05-07        10\n",
              "\n",
              "[3043 rows x 16 columns]"
            ]
          },
          "metadata": {
            "tags": []
          },
          "execution_count": 18
        }
      ]
    },
    {
      "cell_type": "code",
      "metadata": {
        "colab": {
          "base_uri": "https://localhost:8080/",
          "height": 406
        },
        "id": "yDT6zLkK7qz_",
        "outputId": "5fc27fa2-cc9e-4bc6-95a7-a7045cfe7237"
      },
      "source": [
        "df2 = df1.iloc[:,[4,7,15,11,12,13,1,14]]\n",
        "columnas = ['producto','unidad','depto','gestion','mes','dia','precio','fecha_act']\n",
        "df2.columns = columnas\n",
        "df2\n"
      ],
      "execution_count": null,
      "outputs": [
        {
          "output_type": "execute_result",
          "data": {
            "text/html": [
              "<div>\n",
              "<style scoped>\n",
              "    .dataframe tbody tr th:only-of-type {\n",
              "        vertical-align: middle;\n",
              "    }\n",
              "\n",
              "    .dataframe tbody tr th {\n",
              "        vertical-align: top;\n",
              "    }\n",
              "\n",
              "    .dataframe thead th {\n",
              "        text-align: right;\n",
              "    }\n",
              "</style>\n",
              "<table border=\"1\" class=\"dataframe\">\n",
              "  <thead>\n",
              "    <tr style=\"text-align: right;\">\n",
              "      <th></th>\n",
              "      <th>producto</th>\n",
              "      <th>unidad</th>\n",
              "      <th>depto</th>\n",
              "      <th>gestion</th>\n",
              "      <th>mes</th>\n",
              "      <th>dia</th>\n",
              "      <th>precio</th>\n",
              "      <th>fecha_act</th>\n",
              "    </tr>\n",
              "  </thead>\n",
              "  <tbody>\n",
              "    <tr>\n",
              "      <th>0</th>\n",
              "      <td>1</td>\n",
              "      <td>Lt.</td>\n",
              "      <td>4</td>\n",
              "      <td>2021</td>\n",
              "      <td>5</td>\n",
              "      <td>3</td>\n",
              "      <td>7.5</td>\n",
              "      <td>2021-05-07</td>\n",
              "    </tr>\n",
              "    <tr>\n",
              "      <th>1</th>\n",
              "      <td>1</td>\n",
              "      <td>Lt.</td>\n",
              "      <td>4</td>\n",
              "      <td>2021</td>\n",
              "      <td>5</td>\n",
              "      <td>4</td>\n",
              "      <td>7.5</td>\n",
              "      <td>2021-05-07</td>\n",
              "    </tr>\n",
              "    <tr>\n",
              "      <th>2</th>\n",
              "      <td>1</td>\n",
              "      <td>Lt.</td>\n",
              "      <td>4</td>\n",
              "      <td>2021</td>\n",
              "      <td>5</td>\n",
              "      <td>5</td>\n",
              "      <td>7.5</td>\n",
              "      <td>2021-05-07</td>\n",
              "    </tr>\n",
              "    <tr>\n",
              "      <th>3</th>\n",
              "      <td>1</td>\n",
              "      <td>Lt.</td>\n",
              "      <td>4</td>\n",
              "      <td>2021</td>\n",
              "      <td>5</td>\n",
              "      <td>6</td>\n",
              "      <td>7.5</td>\n",
              "      <td>2021-05-07</td>\n",
              "    </tr>\n",
              "    <tr>\n",
              "      <th>4</th>\n",
              "      <td>1</td>\n",
              "      <td>Lt.</td>\n",
              "      <td>4</td>\n",
              "      <td>2021</td>\n",
              "      <td>5</td>\n",
              "      <td>7</td>\n",
              "      <td>7.5</td>\n",
              "      <td>2021-05-07</td>\n",
              "    </tr>\n",
              "    <tr>\n",
              "      <th>...</th>\n",
              "      <td>...</td>\n",
              "      <td>...</td>\n",
              "      <td>...</td>\n",
              "      <td>...</td>\n",
              "      <td>...</td>\n",
              "      <td>...</td>\n",
              "      <td>...</td>\n",
              "      <td>...</td>\n",
              "    </tr>\n",
              "    <tr>\n",
              "      <th>3038</th>\n",
              "      <td>39</td>\n",
              "      <td>Kg.</td>\n",
              "      <td>10</td>\n",
              "      <td>2021</td>\n",
              "      <td>5</td>\n",
              "      <td>3</td>\n",
              "      <td>14.5</td>\n",
              "      <td>2021-05-07</td>\n",
              "    </tr>\n",
              "    <tr>\n",
              "      <th>3039</th>\n",
              "      <td>39</td>\n",
              "      <td>Kg.</td>\n",
              "      <td>10</td>\n",
              "      <td>2021</td>\n",
              "      <td>5</td>\n",
              "      <td>4</td>\n",
              "      <td>14.5</td>\n",
              "      <td>2021-05-07</td>\n",
              "    </tr>\n",
              "    <tr>\n",
              "      <th>3040</th>\n",
              "      <td>39</td>\n",
              "      <td>Kg.</td>\n",
              "      <td>10</td>\n",
              "      <td>2021</td>\n",
              "      <td>5</td>\n",
              "      <td>5</td>\n",
              "      <td>14.5</td>\n",
              "      <td>2021-05-07</td>\n",
              "    </tr>\n",
              "    <tr>\n",
              "      <th>3041</th>\n",
              "      <td>39</td>\n",
              "      <td>Kg.</td>\n",
              "      <td>10</td>\n",
              "      <td>2021</td>\n",
              "      <td>5</td>\n",
              "      <td>6</td>\n",
              "      <td>14.5</td>\n",
              "      <td>2021-05-07</td>\n",
              "    </tr>\n",
              "    <tr>\n",
              "      <th>3042</th>\n",
              "      <td>39</td>\n",
              "      <td>Kg.</td>\n",
              "      <td>10</td>\n",
              "      <td>2021</td>\n",
              "      <td>5</td>\n",
              "      <td>7</td>\n",
              "      <td>14.5</td>\n",
              "      <td>2021-05-07</td>\n",
              "    </tr>\n",
              "  </tbody>\n",
              "</table>\n",
              "<p>3043 rows × 8 columns</p>\n",
              "</div>"
            ],
            "text/plain": [
              "      producto unidad  depto gestion  mes  dia  precio   fecha_act\n",
              "0            1    Lt.      4    2021    5    3     7.5  2021-05-07\n",
              "1            1    Lt.      4    2021    5    4     7.5  2021-05-07\n",
              "2            1    Lt.      4    2021    5    5     7.5  2021-05-07\n",
              "3            1    Lt.      4    2021    5    6     7.5  2021-05-07\n",
              "4            1    Lt.      4    2021    5    7     7.5  2021-05-07\n",
              "...        ...    ...    ...     ...  ...  ...     ...         ...\n",
              "3038        39    Kg.     10    2021    5    3    14.5  2021-05-07\n",
              "3039        39    Kg.     10    2021    5    4    14.5  2021-05-07\n",
              "3040        39    Kg.     10    2021    5    5    14.5  2021-05-07\n",
              "3041        39    Kg.     10    2021    5    6    14.5  2021-05-07\n",
              "3042        39    Kg.     10    2021    5    7    14.5  2021-05-07\n",
              "\n",
              "[3043 rows x 8 columns]"
            ]
          },
          "metadata": {
            "tags": []
          },
          "execution_count": 19
        }
      ]
    },
    {
      "cell_type": "code",
      "metadata": {
        "id": "tVVemjTjkXGa"
      },
      "source": [
        "#df2.to_excel('precios_diarios_base.xlsx',index=False)"
      ],
      "execution_count": null,
      "outputs": []
    },
    {
      "cell_type": "code",
      "metadata": {
        "id": "e9K5JCP8rWRC"
      },
      "source": [
        "#data.to_excel('precios_diarios_origen.xlsx',index=False)"
      ],
      "execution_count": null,
      "outputs": []
    },
    {
      "cell_type": "code",
      "metadata": {
        "id": "gNYWzX3tMvk0"
      },
      "source": [
        "connection = pymysql.connect(host='190.181.4.31',\n",
        "                             user='udapro',\n",
        "                             password='k1cvid567',\n",
        "                             db='siip')\n",
        "cursor = connection.cursor()"
      ],
      "execution_count": null,
      "outputs": []
    },
    {
      "cell_type": "code",
      "metadata": {
        "id": "UnPJQdsoHeDe"
      },
      "source": [
        "# creating column list for insertion\n",
        "cols = \"`,`\".join([str(i) for i in df2.columns.tolist()])\n",
        "\n",
        "for i,row in df2.iterrows():\n",
        "    sql = \"INSERT INTO `sispam_diarios_prueba` (`\" +cols + \"`) VALUES (\" + \"%s,\"*(len(row)-1) + \"%s)\"\n",
        "    cursor.execute(sql, tuple(row))\n",
        "    connection.commit()"
      ],
      "execution_count": null,
      "outputs": []
    }
  ]
}