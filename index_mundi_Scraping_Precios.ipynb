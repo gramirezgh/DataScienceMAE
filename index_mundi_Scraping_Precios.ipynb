{
  "nbformat": 4,
  "nbformat_minor": 0,
  "metadata": {
    "colab": {
      "name": "index mundi Scraping Precios.ipynb",
      "provenance": [],
      "toc_visible": true,
      "include_colab_link": true
    },
    "kernelspec": {
      "display_name": "Python 3",
      "language": "python",
      "name": "python3"
    },
    "language_info": {
      "codemirror_mode": {
        "name": "ipython",
        "version": 3
      },
      "file_extension": ".py",
      "mimetype": "text/x-python",
      "name": "python",
      "nbconvert_exporter": "python",
      "pygments_lexer": "ipython3",
      "version": "3.6.1"
    }
  },
  "cells": [
    {
      "cell_type": "markdown",
      "metadata": {
        "id": "view-in-github",
        "colab_type": "text"
      },
      "source": [
        "<a href=\"https://colab.research.google.com/github/gramirezgh/DataScienceMAE/blob/master/index_mundi_Scraping_Precios.ipynb\" target=\"_parent\"><img src=\"https://colab.research.google.com/assets/colab-badge.svg\" alt=\"Open In Colab\"/></a>"
      ]
    },
    {
      "cell_type": "markdown",
      "metadata": {
        "id": "raD4ZL8zLnEI"
      },
      "source": [
        "![sslogo](https://github.com/stratascratch/stratascratch.github.io/raw/master/assets/sslogo.jpg)"
      ]
    },
    {
      "cell_type": "markdown",
      "metadata": {
        "id": "gdWIsXJDLnEL"
      },
      "source": [
        "# Web scraping in Python\n",
        "\n",
        "Scraping refers to extracting useful data from web pages which are written in a programming language called HTML. To scrap data from the HTML tree we first have to download the web page to our PC.\n",
        "\n",
        "We will use the following packages to achieve the tasks in this lesson:\n",
        "- [`requests`](http://docs.python-requests.org/en/master/)\n",
        "- [`beautifoulsoup4`](https://www.crummy.com/software/BeautifulSoup/bs4/doc/#quick-start)"
      ]
    },
    {
      "cell_type": "markdown",
      "metadata": {
        "id": "CMwFz1VxLnEM"
      },
      "source": [
        "### Install the packages using pip"
      ]
    },
    {
      "cell_type": "code",
      "metadata": {
        "colab": {
          "base_uri": "https://localhost:8080/"
        },
        "id": "88vIYTX3LnEM",
        "outputId": "a21b1f73-8b33-46cc-be70-5e598afed489"
      },
      "source": [
        "!pip install requests"
      ],
      "execution_count": null,
      "outputs": [
        {
          "output_type": "stream",
          "text": [
            "Requirement already satisfied: requests in /usr/local/lib/python3.7/dist-packages (2.23.0)\n",
            "Requirement already satisfied: urllib3!=1.25.0,!=1.25.1,<1.26,>=1.21.1 in /usr/local/lib/python3.7/dist-packages (from requests) (1.24.3)\n",
            "Requirement already satisfied: certifi>=2017.4.17 in /usr/local/lib/python3.7/dist-packages (from requests) (2020.12.5)\n",
            "Requirement already satisfied: idna<3,>=2.5 in /usr/local/lib/python3.7/dist-packages (from requests) (2.10)\n",
            "Requirement already satisfied: chardet<4,>=3.0.2 in /usr/local/lib/python3.7/dist-packages (from requests) (3.0.4)\n"
          ],
          "name": "stdout"
        }
      ]
    },
    {
      "cell_type": "code",
      "metadata": {
        "colab": {
          "base_uri": "https://localhost:8080/"
        },
        "id": "uVLheGv2LnER",
        "outputId": "315a0222-2ccc-4f5d-cba3-0ebd961a360b"
      },
      "source": [
        "!pip install beautifulsoup4"
      ],
      "execution_count": null,
      "outputs": [
        {
          "output_type": "stream",
          "text": [
            "Requirement already satisfied: beautifulsoup4 in /usr/local/lib/python3.7/dist-packages (4.6.3)\n"
          ],
          "name": "stdout"
        }
      ]
    },
    {
      "cell_type": "markdown",
      "metadata": {
        "id": "IER4Vns1LnET"
      },
      "source": [
        "### Import the modules"
      ]
    },
    {
      "cell_type": "code",
      "metadata": {
        "id": "MNd4cMCqLnEU"
      },
      "source": [
        "import numpy as np\n",
        "import pandas as pd\n",
        "import requests\n",
        "import bs4\n",
        "import lxml.etree as xml\n"
      ],
      "execution_count": null,
      "outputs": []
    },
    {
      "cell_type": "code",
      "metadata": {
        "id": "lm2KLLCcouGn",
        "colab": {
          "base_uri": "https://localhost:8080/"
        },
        "outputId": "eb259a03-cefa-434f-8bb3-7bb3be239169"
      },
      "source": [
        "from datetime import date\n",
        "from datetime import datetime\n",
        "from datetime import timedelta\n",
        "from google.colab import drive\n",
        "drive.mount('/content/drive')"
      ],
      "execution_count": null,
      "outputs": [
        {
          "output_type": "stream",
          "text": [
            "Drive already mounted at /content/drive; to attempt to forcibly remount, call drive.mount(\"/content/drive\", force_remount=True).\n"
          ],
          "name": "stdout"
        }
      ]
    },
    {
      "cell_type": "code",
      "metadata": {
        "colab": {
          "base_uri": "https://localhost:8080/",
          "height": 88
        },
        "id": "NEFrDuloc-Pj",
        "outputId": "796d7576-552e-41da-cc17-74553fa0ae84"
      },
      "source": [
        "''' import base64\n",
        "URL = \"https://excel.officeapps.live.com/x/_layouts/XlFileHandler.aspx?WacUserType=WOPI&usid=80a67a5e-a68f-4c6d-85ee-214a549fc86a&NoAuth=1&waccluster=BR2\"\n",
        "def create_onedrive_directdownload (onedrive_link):\n",
        "    data_bytes64 = base64.b64encode(bytes(onedrive_link, 'utf-8'))\n",
        "    data_bytes64_String = data_bytes64.decode('utf-8').replace('/','_').replace('+','-').rstrip(\"=\")\n",
        "    resultUrl = f\"https://api.onedrive.com/v1.0/shares/u!{data_bytes64_String}/root/content\"\n",
        "    return resultUrl\n",
        "\n",
        "import pandas as pd \n",
        "onedrive_url = \"https://1drv.ms/x/s!AgbSavRErmU0gYRhOG3_CSPzPGplfQ?e=3a97N7\"\n",
        "direct_download_url = create_onedrive_directdownload(onedrive_url)\n",
        "df = pd.read_excel(direct_download_url) '''"
      ],
      "execution_count": null,
      "outputs": [
        {
          "output_type": "execute_result",
          "data": {
            "application/vnd.google.colaboratory.intrinsic+json": {
              "type": "string"
            },
            "text/plain": [
              "' import base64\\nURL = \"https://excel.officeapps.live.com/x/_layouts/XlFileHandler.aspx?WacUserType=WOPI&usid=80a67a5e-a68f-4c6d-85ee-214a549fc86a&NoAuth=1&waccluster=BR2\"\\ndef create_onedrive_directdownload (onedrive_link):\\n    data_bytes64 = base64.b64encode(bytes(onedrive_link, \\'utf-8\\'))\\n    data_bytes64_String = data_bytes64.decode(\\'utf-8\\').replace(\\'/\\',\\'_\\').replace(\\'+\\',\\'-\\').rstrip(\"=\")\\n    resultUrl = f\"https://api.onedrive.com/v1.0/shares/u!{data_bytes64_String}/root/content\"\\n    return resultUrl\\n\\nimport pandas as pd \\nonedrive_url = \"https://1drv.ms/x/s!AgbSavRErmU0gYRhOG3_CSPzPGplfQ?e=3a97N7\"\\ndirect_download_url = create_onedrive_directdownload(onedrive_url)\\ndf = pd.read_excel(direct_download_url) '"
            ]
          },
          "metadata": {
            "tags": []
          },
          "execution_count": 6
        }
      ]
    },
    {
      "cell_type": "code",
      "metadata": {
        "colab": {
          "base_uri": "https://localhost:8080/",
          "height": 281
        },
        "id": "3caruasK7smS",
        "outputId": "d4ec550f-0da8-4c1d-eabb-d1631dc0468b"
      },
      "source": [
        "dicc_index_mundi = pd.read_excel(\"/content/drive/My Drive/Colab Notebooks/data/precio/dicc_precios_INDEX_MUNDI.xlsx\")\n",
        "dicc_index_mundi.head()"
      ],
      "execution_count": null,
      "outputs": [
        {
          "output_type": "execute_result",
          "data": {
            "text/html": [
              "<div>\n",
              "<style scoped>\n",
              "    .dataframe tbody tr th:only-of-type {\n",
              "        vertical-align: middle;\n",
              "    }\n",
              "\n",
              "    .dataframe tbody tr th {\n",
              "        vertical-align: top;\n",
              "    }\n",
              "\n",
              "    .dataframe thead th {\n",
              "        text-align: right;\n",
              "    }\n",
              "</style>\n",
              "<table border=\"1\" class=\"dataframe\">\n",
              "  <thead>\n",
              "    <tr style=\"text-align: right;\">\n",
              "      <th></th>\n",
              "      <th>mercancia</th>\n",
              "      <th>unidad_orig</th>\n",
              "      <th>nombre_orig</th>\n",
              "      <th>complejo</th>\n",
              "      <th>unidad</th>\n",
              "      <th>producto</th>\n",
              "      <th>nombre_internacional</th>\n",
              "      <th>fuente</th>\n",
              "      <th>pais</th>\n",
              "      <th>sector</th>\n",
              "    </tr>\n",
              "  </thead>\n",
              "  <tbody>\n",
              "    <tr>\n",
              "      <th>0</th>\n",
              "      <td>aceite-de-girasol</td>\n",
              "      <td>Dólares americanos por tonelada métrica</td>\n",
              "      <td>Sunflower oil, US export price from Gulf of Me...</td>\n",
              "      <td>2</td>\n",
              "      <td>$us/TM</td>\n",
              "      <td>Aceite</td>\n",
              "      <td>Aceite de Girasol, EE,UU. Precio de exportació...</td>\n",
              "      <td>Index mundi</td>\n",
              "      <td>Mexico</td>\n",
              "      <td>OLEAGINOSAS</td>\n",
              "    </tr>\n",
              "    <tr>\n",
              "      <th>1</th>\n",
              "      <td>algodon</td>\n",
              "      <td>centavos de dólar americano por libra</td>\n",
              "      <td>Algodón, Índice Cotlook 'A', mediano 1-3/32 pu...</td>\n",
              "      <td>6</td>\n",
              "      <td>ctv. $us/Lb</td>\n",
              "      <td>Algodón</td>\n",
              "      <td>Algodón, Table Of Contents Índice Cotlook \"A\",...</td>\n",
              "      <td>Index mundi</td>\n",
              "      <td>Asia Oriental</td>\n",
              "      <td>MATERIAS PRIMAS</td>\n",
              "    </tr>\n",
              "    <tr>\n",
              "      <th>2</th>\n",
              "      <td>azucar-precio-de-importacion-americano</td>\n",
              "      <td>centavos de dólar americano por libra</td>\n",
              "      <td>Sugar, U.S. import price, contract no.14 neare...</td>\n",
              "      <td>5</td>\n",
              "      <td>ctv. $us/Lb</td>\n",
              "      <td>Azúcar</td>\n",
              "      <td>Azúcar, EE.UU. Precio de importacion, contrato...</td>\n",
              "      <td>Index mundi</td>\n",
              "      <td>Estados Unidos</td>\n",
              "      <td>AGROINDUSTRIAL</td>\n",
              "    </tr>\n",
              "    <tr>\n",
              "      <th>3</th>\n",
              "      <td>azucar-precio-de-importacion-europeo</td>\n",
              "      <td>centavos de dólar americano por libra</td>\n",
              "      <td>Sugar, European import price, CIF Europe, cent...</td>\n",
              "      <td>5</td>\n",
              "      <td>ctv. $us/Lb</td>\n",
              "      <td>Azúcar</td>\n",
              "      <td>Azúcar, Precio de importación Europea, CIF Europa</td>\n",
              "      <td>Index mundi</td>\n",
              "      <td>Europa</td>\n",
              "      <td>AGROINDUSTRIAL</td>\n",
              "    </tr>\n",
              "    <tr>\n",
              "      <th>4</th>\n",
              "      <td>cafe-arabica</td>\n",
              "      <td>centavos de dólar americano por libra</td>\n",
              "      <td>Coffee, Other Mild Arabicas, International Cof...</td>\n",
              "      <td>0</td>\n",
              "      <td>ctv. $us/Lb</td>\n",
              "      <td>Café, arábica suave</td>\n",
              "      <td>Café arábica suave, New York cash price</td>\n",
              "      <td>Index mundi</td>\n",
              "      <td>Estados Unidos</td>\n",
              "      <td>BEBIDAS</td>\n",
              "    </tr>\n",
              "  </tbody>\n",
              "</table>\n",
              "</div>"
            ],
            "text/plain": [
              "                                mercancia  ...           sector\n",
              "0                       aceite-de-girasol  ...      OLEAGINOSAS\n",
              "1                                 algodon  ...  MATERIAS PRIMAS\n",
              "2  azucar-precio-de-importacion-americano  ...   AGROINDUSTRIAL\n",
              "3    azucar-precio-de-importacion-europeo  ...   AGROINDUSTRIAL\n",
              "4                            cafe-arabica  ...          BEBIDAS\n",
              "\n",
              "[5 rows x 10 columns]"
            ]
          },
          "metadata": {
            "tags": []
          },
          "execution_count": 7
        }
      ]
    },
    {
      "cell_type": "code",
      "metadata": {
        "id": "LHjrmYTQLnEX",
        "colab": {
          "base_uri": "https://localhost:8080/",
          "height": 35
        },
        "outputId": "4f6a0958-b1df-40ee-8801-2e5db4ec2dea"
      },
      "source": [
        "URL = \"https://www.indexmundi.com/es/precios-de-mercado/\"\n",
        "''' \n",
        "fecha_ini = '01/01/2021'\n",
        "\n",
        "dia_ini = fecha_ini[0:2]\n",
        "mes_ini = fecha_ini[3:5]\n",
        "anio_ini = fecha_ini[6:10]\n",
        " '''"
      ],
      "execution_count": null,
      "outputs": [
        {
          "output_type": "execute_result",
          "data": {
            "application/vnd.google.colaboratory.intrinsic+json": {
              "type": "string"
            },
            "text/plain": [
              "\" \\nfecha_ini = '01/01/2021'\\n\\ndia_ini = fecha_ini[0:2]\\nmes_ini = fecha_ini[3:5]\\nanio_ini = fecha_ini[6:10]\\n \""
            ]
          },
          "metadata": {
            "tags": []
          },
          "execution_count": 8
        }
      ]
    },
    {
      "cell_type": "code",
      "metadata": {
        "id": "2UEfowiNdp3Y"
      },
      "source": [
        "''' lis_mercancia = [\n",
        "    'cafe-arabica','cafe-robusta','granos-de-cacao','te','arroz','cebada','maiz','sorgo','trigo','trigo-canadiense','trigo-srw','carne','cerdo','cordero','pollo','azucar','azucar-precio-de-importacion-americano','azucar-precio-de-importacion-europeo','aceite-de-girasol','aceite-de-soja','harina-de-soja','mani','soja','algodon','copra','cueros','goma','lana-fina','lana-gruesa','madera-contrachapada','madera-dura','madera-dura-aserrada','madera-suave','madera-suave-aserrada','pulpa-de-celulosa','acero-laminado-en-caliente','acero-laminado-en-frio','alambre-de-acero','aluminio','barras-de-acero','cobre','estano','mineral-de-hierro','niquel','oro','plata','plomo','uranio','zinc','cloruro-de-potasio','fosfato-diamonico','fosforita','superfosfato-triple','urea',\n",
        "] '''\n",
        "lis_mercancia = dicc_index_mundi['mercancia']\n",
        "num_meses = 15 # 15 desde 2020\n"
      ],
      "execution_count": null,
      "outputs": []
    },
    {
      "cell_type": "code",
      "metadata": {
        "colab": {
          "base_uri": "https://localhost:8080/"
        },
        "id": "wVIuSU5uUMLq",
        "outputId": "c2f3ddae-881f-476a-ff69-ea85ecff380f"
      },
      "source": [
        "lis_mercancia"
      ],
      "execution_count": null,
      "outputs": [
        {
          "output_type": "execute_result",
          "data": {
            "text/plain": [
              "0                          aceite-de-girasol\n",
              "1                                    algodon\n",
              "2     azucar-precio-de-importacion-americano\n",
              "3       azucar-precio-de-importacion-europeo\n",
              "4                               cafe-arabica\n",
              "5                               cafe-robusta\n",
              "6                                      carne\n",
              "7                                     cebada\n",
              "8                          fosfato-diamonico\n",
              "9                                  fosforita\n",
              "10                           granos-de-cacao\n",
              "11                      madera-contrachapada\n",
              "12                               madera-dura\n",
              "13                                      mani\n",
              "14                                     pollo\n",
              "15                         pulpa-de-celulosa\n",
              "16                                     sorgo\n",
              "17                       superfosfato-triple\n",
              "18                                        te\n",
              "19                                      urea\n",
              "Name: mercancia, dtype: object"
            ]
          },
          "metadata": {
            "tags": []
          },
          "execution_count": 10
        }
      ]
    },
    {
      "cell_type": "code",
      "metadata": {
        "colab": {
          "base_uri": "https://localhost:8080/"
        },
        "id": "1nDp0eJumfWs",
        "outputId": "8282ad8e-73d2-4b0c-995c-62183f83f7e6"
      },
      "source": [
        "tabla1 = 0;\n",
        "columns = ''\n",
        "df1 = pd.DataFrame(columns=['Mes','Precio','Tasa de cambio','nombre_internacional','unidad','mercancia'])\n",
        "for item in lis_mercancia:\n",
        "  param = {'mercancia': item, 'meses':num_meses}\n",
        "  print('===>',param)\n",
        "  web_page = bs4.BeautifulSoup(requests.get(URL, params=param).text, \"lxml\")\n",
        "  table_precios = web_page.find_all(name='table', attrs={\"class\": 'tblData'})[0]\n",
        "  producto = web_page.find(id='lblSeriesDescription').text\n",
        "  unidad = web_page.find(id='lblSeriesUnit').text\n",
        "  \n",
        "  if tabla1 == 0:    \n",
        "    columns = list(table_precios.find_all('tr'))[0]\n",
        "    columns = [elem.text.strip(\"\\n \") \n",
        "            for elem in columns \n",
        "           if type(elem) != bs4.NavigableString]\n",
        "    tabla1 = 1       \n",
        "         \n",
        "  # tabla    \n",
        "  rows = []\n",
        "  for i, row in enumerate(table_precios.find_all(\"tr\")):\n",
        "    # Skip the header\n",
        "    if i < 1 or type(row) == bs4.NavigableString:\n",
        "        continue\n",
        "\n",
        "    tds = row.find_all(\"td\")\n",
        "    row = [tr.text.strip() for tr in tds if tr.text.strip()]\n",
        "    if row:\n",
        "      rows.append(row)    \n",
        "  \n",
        "  \n",
        "  data_frame = pd.DataFrame(rows, columns=columns)\n",
        "  data_frame['nombre_internacional'] = producto\n",
        "  data_frame['unidad'] = unidad  \n",
        "  data_frame['mercancia'] = item\n",
        "  df1 = df1.append(data_frame, ignore_index = True)\n",
        "  "
      ],
      "execution_count": null,
      "outputs": [
        {
          "output_type": "stream",
          "text": [
            "===> {'mercancia': 'aceite-de-girasol', 'meses': 15}\n",
            "===> {'mercancia': 'algodon', 'meses': 15}\n",
            "===> {'mercancia': 'azucar-precio-de-importacion-americano', 'meses': 15}\n",
            "===> {'mercancia': 'azucar-precio-de-importacion-europeo', 'meses': 15}\n",
            "===> {'mercancia': 'cafe-arabica', 'meses': 15}\n",
            "===> {'mercancia': 'cafe-robusta', 'meses': 15}\n",
            "===> {'mercancia': 'carne', 'meses': 15}\n",
            "===> {'mercancia': 'cebada', 'meses': 15}\n",
            "===> {'mercancia': 'fosfato-diamonico', 'meses': 15}\n",
            "===> {'mercancia': 'fosforita', 'meses': 15}\n",
            "===> {'mercancia': 'granos-de-cacao', 'meses': 15}\n",
            "===> {'mercancia': 'madera-contrachapada', 'meses': 15}\n",
            "===> {'mercancia': 'madera-dura', 'meses': 15}\n",
            "===> {'mercancia': 'mani', 'meses': 15}\n",
            "===> {'mercancia': 'pollo', 'meses': 15}\n",
            "===> {'mercancia': 'pulpa-de-celulosa', 'meses': 15}\n",
            "===> {'mercancia': 'sorgo', 'meses': 15}\n",
            "===> {'mercancia': 'superfosfato-triple', 'meses': 15}\n",
            "===> {'mercancia': 'te', 'meses': 15}\n",
            "===> {'mercancia': 'urea', 'meses': 15}\n"
          ],
          "name": "stdout"
        }
      ]
    },
    {
      "cell_type": "code",
      "metadata": {
        "colab": {
          "base_uri": "https://localhost:8080/",
          "height": 406
        },
        "id": "IzHpbMcsKkJR",
        "outputId": "ad430306-76a8-444b-f188-d65dcfbd7673"
      },
      "source": [
        "df1"
      ],
      "execution_count": null,
      "outputs": [
        {
          "output_type": "execute_result",
          "data": {
            "text/html": [
              "<div>\n",
              "<style scoped>\n",
              "    .dataframe tbody tr th:only-of-type {\n",
              "        vertical-align: middle;\n",
              "    }\n",
              "\n",
              "    .dataframe tbody tr th {\n",
              "        vertical-align: top;\n",
              "    }\n",
              "\n",
              "    .dataframe thead th {\n",
              "        text-align: right;\n",
              "    }\n",
              "</style>\n",
              "<table border=\"1\" class=\"dataframe\">\n",
              "  <thead>\n",
              "    <tr style=\"text-align: right;\">\n",
              "      <th></th>\n",
              "      <th>Mes</th>\n",
              "      <th>Precio</th>\n",
              "      <th>Tasa de cambio</th>\n",
              "      <th>nombre_internacional</th>\n",
              "      <th>unidad</th>\n",
              "      <th>mercancia</th>\n",
              "    </tr>\n",
              "  </thead>\n",
              "  <tbody>\n",
              "    <tr>\n",
              "      <th>0</th>\n",
              "      <td>ene. 2020</td>\n",
              "      <td>840,33</td>\n",
              "      <td>-</td>\n",
              "      <td>Sunflower oil, US export price from Gulf of Me...</td>\n",
              "      <td>Dólares americanos por tonelada métrica</td>\n",
              "      <td>aceite-de-girasol</td>\n",
              "    </tr>\n",
              "    <tr>\n",
              "      <th>1</th>\n",
              "      <td>feb. 2020</td>\n",
              "      <td>823,00</td>\n",
              "      <td>-2,06 %</td>\n",
              "      <td>Sunflower oil, US export price from Gulf of Me...</td>\n",
              "      <td>Dólares americanos por tonelada métrica</td>\n",
              "      <td>aceite-de-girasol</td>\n",
              "    </tr>\n",
              "    <tr>\n",
              "      <th>2</th>\n",
              "      <td>mar. 2020</td>\n",
              "      <td>730,00</td>\n",
              "      <td>-11,30 %</td>\n",
              "      <td>Sunflower oil, US export price from Gulf of Me...</td>\n",
              "      <td>Dólares americanos por tonelada métrica</td>\n",
              "      <td>aceite-de-girasol</td>\n",
              "    </tr>\n",
              "    <tr>\n",
              "      <th>3</th>\n",
              "      <td>abr. 2020</td>\n",
              "      <td>732,10</td>\n",
              "      <td>0,29 %</td>\n",
              "      <td>Sunflower oil, US export price from Gulf of Me...</td>\n",
              "      <td>Dólares americanos por tonelada métrica</td>\n",
              "      <td>aceite-de-girasol</td>\n",
              "    </tr>\n",
              "    <tr>\n",
              "      <th>4</th>\n",
              "      <td>may. 2020</td>\n",
              "      <td>738,26</td>\n",
              "      <td>0,84 %</td>\n",
              "      <td>Sunflower oil, US export price from Gulf of Me...</td>\n",
              "      <td>Dólares americanos por tonelada métrica</td>\n",
              "      <td>aceite-de-girasol</td>\n",
              "    </tr>\n",
              "    <tr>\n",
              "      <th>...</th>\n",
              "      <td>...</td>\n",
              "      <td>...</td>\n",
              "      <td>...</td>\n",
              "      <td>...</td>\n",
              "      <td>...</td>\n",
              "      <td>...</td>\n",
              "    </tr>\n",
              "    <tr>\n",
              "      <th>286</th>\n",
              "      <td>dic. 2020</td>\n",
              "      <td>245,00</td>\n",
              "      <td>0,00 %</td>\n",
              "      <td>Urea, (mar negro), a granel, spot, f.o.b. mar ...</td>\n",
              "      <td>Dólares americanos por tonelada métrica</td>\n",
              "      <td>urea</td>\n",
              "    </tr>\n",
              "    <tr>\n",
              "      <th>287</th>\n",
              "      <td>ene. 2021</td>\n",
              "      <td>265,00</td>\n",
              "      <td>8,16 %</td>\n",
              "      <td>Urea, (mar negro), a granel, spot, f.o.b. mar ...</td>\n",
              "      <td>Dólares americanos por tonelada métrica</td>\n",
              "      <td>urea</td>\n",
              "    </tr>\n",
              "    <tr>\n",
              "      <th>288</th>\n",
              "      <td>feb. 2021</td>\n",
              "      <td>335,00</td>\n",
              "      <td>26,42 %</td>\n",
              "      <td>Urea, (mar negro), a granel, spot, f.o.b. mar ...</td>\n",
              "      <td>Dólares americanos por tonelada métrica</td>\n",
              "      <td>urea</td>\n",
              "    </tr>\n",
              "    <tr>\n",
              "      <th>289</th>\n",
              "      <td>mar. 2021</td>\n",
              "      <td>352,88</td>\n",
              "      <td>5,34 %</td>\n",
              "      <td>Urea, (mar negro), a granel, spot, f.o.b. mar ...</td>\n",
              "      <td>Dólares americanos por tonelada métrica</td>\n",
              "      <td>urea</td>\n",
              "    </tr>\n",
              "    <tr>\n",
              "      <th>290</th>\n",
              "      <td>abr. 2021</td>\n",
              "      <td>328,10</td>\n",
              "      <td>-7,02 %</td>\n",
              "      <td>Urea, (mar negro), a granel, spot, f.o.b. mar ...</td>\n",
              "      <td>Dólares americanos por tonelada métrica</td>\n",
              "      <td>urea</td>\n",
              "    </tr>\n",
              "  </tbody>\n",
              "</table>\n",
              "<p>291 rows × 6 columns</p>\n",
              "</div>"
            ],
            "text/plain": [
              "           Mes  ...          mercancia\n",
              "0    ene. 2020  ...  aceite-de-girasol\n",
              "1    feb. 2020  ...  aceite-de-girasol\n",
              "2    mar. 2020  ...  aceite-de-girasol\n",
              "3    abr. 2020  ...  aceite-de-girasol\n",
              "4    may. 2020  ...  aceite-de-girasol\n",
              "..         ...  ...                ...\n",
              "286  dic. 2020  ...               urea\n",
              "287  ene. 2021  ...               urea\n",
              "288  feb. 2021  ...               urea\n",
              "289  mar. 2021  ...               urea\n",
              "290  abr. 2021  ...               urea\n",
              "\n",
              "[291 rows x 6 columns]"
            ]
          },
          "metadata": {
            "tags": []
          },
          "execution_count": 12
        }
      ]
    },
    {
      "cell_type": "code",
      "metadata": {
        "id": "uZpD5ZGMSuNd"
      },
      "source": [
        "#df1.to_excel(\"precios_index_mundi.xlsx\", index=False)"
      ],
      "execution_count": null,
      "outputs": []
    },
    {
      "cell_type": "code",
      "metadata": {
        "id": "fS1f_c53pRzv",
        "colab": {
          "base_uri": "https://localhost:8080/",
          "height": 35
        },
        "outputId": "567a7245-b220-48a7-b9b9-678bc8c88240"
      },
      "source": [
        "\n",
        "''' web_page = bs4.BeautifulSoup(requests.get(URL, params=param).text, \"lxml\")\n",
        "table_precios = web_page.find_all(name='table', attrs={\"class\": 'tblData'})[0] '''"
      ],
      "execution_count": null,
      "outputs": [
        {
          "output_type": "execute_result",
          "data": {
            "application/vnd.google.colaboratory.intrinsic+json": {
              "type": "string"
            },
            "text/plain": [
              "' web_page = bs4.BeautifulSoup(requests.get(URL, params=param).text, \"lxml\")\\ntable_precios = web_page.find_all(name=\\'table\\', attrs={\"class\": \\'tblData\\'})[0] '"
            ]
          },
          "metadata": {
            "tags": []
          },
          "execution_count": 14
        }
      ]
    },
    {
      "cell_type": "code",
      "metadata": {
        "colab": {
          "base_uri": "https://localhost:8080/",
          "height": 35
        },
        "id": "yraCyuWT5f5S",
        "outputId": "57a5a014-bb2e-40fd-ddd0-2f2610c39569"
      },
      "source": [
        "''' producto = web_page.find(id='lblSeriesDescription').text\n",
        "unidad = web_page.find(id='lblSeriesUnit').text\n",
        " '''"
      ],
      "execution_count": null,
      "outputs": [
        {
          "output_type": "execute_result",
          "data": {
            "application/vnd.google.colaboratory.intrinsic+json": {
              "type": "string"
            },
            "text/plain": [
              "\" producto = web_page.find(id='lblSeriesDescription').text\\nunidad = web_page.find(id='lblSeriesUnit').text\\n \""
            ]
          },
          "metadata": {
            "tags": []
          },
          "execution_count": 15
        }
      ]
    },
    {
      "cell_type": "code",
      "metadata": {
        "colab": {
          "base_uri": "https://localhost:8080/",
          "height": 35
        },
        "id": "gRstQARpqjyc",
        "outputId": "6c847005-9388-49d3-a569-4dd434522adb"
      },
      "source": [
        "''' columns = list(table_precios.find_all('tr'))[0]\n",
        "columns = [elem.text.strip(\"\\n \") \n",
        "           for elem in columns \n",
        "           if type(elem) != bs4.NavigableString] '''"
      ],
      "execution_count": null,
      "outputs": [
        {
          "output_type": "execute_result",
          "data": {
            "application/vnd.google.colaboratory.intrinsic+json": {
              "type": "string"
            },
            "text/plain": [
              "' columns = list(table_precios.find_all(\\'tr\\'))[0]\\ncolumns = [elem.text.strip(\"\\n \") \\n           for elem in columns \\n           if type(elem) != bs4.NavigableString] '"
            ]
          },
          "metadata": {
            "tags": []
          },
          "execution_count": 16
        }
      ]
    },
    {
      "cell_type": "code",
      "metadata": {
        "id": "9EmHns4kUDru",
        "colab": {
          "base_uri": "https://localhost:8080/",
          "height": 53
        },
        "outputId": "3450d605-8319-4ae5-8331-4d5070761ad6"
      },
      "source": [
        "''' rows = []\n",
        "for i, row in enumerate(table_precios.find_all(\"tr\")):\n",
        "    # Skip the header\n",
        "    if i < 1 or type(row) == bs4.NavigableString:\n",
        "        continue\n",
        "\n",
        "    tds = row.find_all(\"td\")\n",
        "    row = [tr.text.strip() for tr in tds if tr.text.strip()]\n",
        "    if row:\n",
        "      rows.append(row)    \n",
        "    \n",
        "data_frame = pd.DataFrame(rows, columns=columns) '''"
      ],
      "execution_count": null,
      "outputs": [
        {
          "output_type": "execute_result",
          "data": {
            "application/vnd.google.colaboratory.intrinsic+json": {
              "type": "string"
            },
            "text/plain": [
              "' rows = []\\nfor i, row in enumerate(table_precios.find_all(\"tr\")):\\n    # Skip the header\\n    if i < 1 or type(row) == bs4.NavigableString:\\n        continue\\n\\n    tds = row.find_all(\"td\")\\n    row = [tr.text.strip() for tr in tds if tr.text.strip()]\\n    if row:\\n      rows.append(row)    \\n    \\ndata_frame = pd.DataFrame(rows, columns=columns) '"
            ]
          },
          "metadata": {
            "tags": []
          },
          "execution_count": 17
        }
      ]
    },
    {
      "cell_type": "code",
      "metadata": {
        "id": "SHwyIln9OkUK",
        "colab": {
          "base_uri": "https://localhost:8080/",
          "height": 35
        },
        "outputId": "1da2acf3-f935-4601-a2d4-5d37700976fb"
      },
      "source": [
        "''' data_frame.head() '''"
      ],
      "execution_count": null,
      "outputs": [
        {
          "output_type": "execute_result",
          "data": {
            "application/vnd.google.colaboratory.intrinsic+json": {
              "type": "string"
            },
            "text/plain": [
              "' data_frame.head() '"
            ]
          },
          "metadata": {
            "tags": []
          },
          "execution_count": 18
        }
      ]
    },
    {
      "cell_type": "code",
      "metadata": {
        "colab": {
          "base_uri": "https://localhost:8080/",
          "height": 406
        },
        "id": "qzK-9CrPqxGW",
        "outputId": "5a29adb6-a0b7-427c-8a87-47c9d5847e35"
      },
      "source": [
        "\n",
        "dicc_mes_num = {'ene':'1','feb':'2','mar':'3','abr':'4','may':'5','jun':'6','jul':'7','ago':'8','sep':'9','oct':'10','nov':'11','dic':'12'}\n",
        "df1"
      ],
      "execution_count": null,
      "outputs": [
        {
          "output_type": "execute_result",
          "data": {
            "text/html": [
              "<div>\n",
              "<style scoped>\n",
              "    .dataframe tbody tr th:only-of-type {\n",
              "        vertical-align: middle;\n",
              "    }\n",
              "\n",
              "    .dataframe tbody tr th {\n",
              "        vertical-align: top;\n",
              "    }\n",
              "\n",
              "    .dataframe thead th {\n",
              "        text-align: right;\n",
              "    }\n",
              "</style>\n",
              "<table border=\"1\" class=\"dataframe\">\n",
              "  <thead>\n",
              "    <tr style=\"text-align: right;\">\n",
              "      <th></th>\n",
              "      <th>Mes</th>\n",
              "      <th>Precio</th>\n",
              "      <th>Tasa de cambio</th>\n",
              "      <th>nombre_internacional</th>\n",
              "      <th>unidad</th>\n",
              "      <th>mercancia</th>\n",
              "    </tr>\n",
              "  </thead>\n",
              "  <tbody>\n",
              "    <tr>\n",
              "      <th>0</th>\n",
              "      <td>ene. 2020</td>\n",
              "      <td>840,33</td>\n",
              "      <td>-</td>\n",
              "      <td>Sunflower oil, US export price from Gulf of Me...</td>\n",
              "      <td>Dólares americanos por tonelada métrica</td>\n",
              "      <td>aceite-de-girasol</td>\n",
              "    </tr>\n",
              "    <tr>\n",
              "      <th>1</th>\n",
              "      <td>feb. 2020</td>\n",
              "      <td>823,00</td>\n",
              "      <td>-2,06 %</td>\n",
              "      <td>Sunflower oil, US export price from Gulf of Me...</td>\n",
              "      <td>Dólares americanos por tonelada métrica</td>\n",
              "      <td>aceite-de-girasol</td>\n",
              "    </tr>\n",
              "    <tr>\n",
              "      <th>2</th>\n",
              "      <td>mar. 2020</td>\n",
              "      <td>730,00</td>\n",
              "      <td>-11,30 %</td>\n",
              "      <td>Sunflower oil, US export price from Gulf of Me...</td>\n",
              "      <td>Dólares americanos por tonelada métrica</td>\n",
              "      <td>aceite-de-girasol</td>\n",
              "    </tr>\n",
              "    <tr>\n",
              "      <th>3</th>\n",
              "      <td>abr. 2020</td>\n",
              "      <td>732,10</td>\n",
              "      <td>0,29 %</td>\n",
              "      <td>Sunflower oil, US export price from Gulf of Me...</td>\n",
              "      <td>Dólares americanos por tonelada métrica</td>\n",
              "      <td>aceite-de-girasol</td>\n",
              "    </tr>\n",
              "    <tr>\n",
              "      <th>4</th>\n",
              "      <td>may. 2020</td>\n",
              "      <td>738,26</td>\n",
              "      <td>0,84 %</td>\n",
              "      <td>Sunflower oil, US export price from Gulf of Me...</td>\n",
              "      <td>Dólares americanos por tonelada métrica</td>\n",
              "      <td>aceite-de-girasol</td>\n",
              "    </tr>\n",
              "    <tr>\n",
              "      <th>...</th>\n",
              "      <td>...</td>\n",
              "      <td>...</td>\n",
              "      <td>...</td>\n",
              "      <td>...</td>\n",
              "      <td>...</td>\n",
              "      <td>...</td>\n",
              "    </tr>\n",
              "    <tr>\n",
              "      <th>286</th>\n",
              "      <td>dic. 2020</td>\n",
              "      <td>245,00</td>\n",
              "      <td>0,00 %</td>\n",
              "      <td>Urea, (mar negro), a granel, spot, f.o.b. mar ...</td>\n",
              "      <td>Dólares americanos por tonelada métrica</td>\n",
              "      <td>urea</td>\n",
              "    </tr>\n",
              "    <tr>\n",
              "      <th>287</th>\n",
              "      <td>ene. 2021</td>\n",
              "      <td>265,00</td>\n",
              "      <td>8,16 %</td>\n",
              "      <td>Urea, (mar negro), a granel, spot, f.o.b. mar ...</td>\n",
              "      <td>Dólares americanos por tonelada métrica</td>\n",
              "      <td>urea</td>\n",
              "    </tr>\n",
              "    <tr>\n",
              "      <th>288</th>\n",
              "      <td>feb. 2021</td>\n",
              "      <td>335,00</td>\n",
              "      <td>26,42 %</td>\n",
              "      <td>Urea, (mar negro), a granel, spot, f.o.b. mar ...</td>\n",
              "      <td>Dólares americanos por tonelada métrica</td>\n",
              "      <td>urea</td>\n",
              "    </tr>\n",
              "    <tr>\n",
              "      <th>289</th>\n",
              "      <td>mar. 2021</td>\n",
              "      <td>352,88</td>\n",
              "      <td>5,34 %</td>\n",
              "      <td>Urea, (mar negro), a granel, spot, f.o.b. mar ...</td>\n",
              "      <td>Dólares americanos por tonelada métrica</td>\n",
              "      <td>urea</td>\n",
              "    </tr>\n",
              "    <tr>\n",
              "      <th>290</th>\n",
              "      <td>abr. 2021</td>\n",
              "      <td>328,10</td>\n",
              "      <td>-7,02 %</td>\n",
              "      <td>Urea, (mar negro), a granel, spot, f.o.b. mar ...</td>\n",
              "      <td>Dólares americanos por tonelada métrica</td>\n",
              "      <td>urea</td>\n",
              "    </tr>\n",
              "  </tbody>\n",
              "</table>\n",
              "<p>291 rows × 6 columns</p>\n",
              "</div>"
            ],
            "text/plain": [
              "           Mes  ...          mercancia\n",
              "0    ene. 2020  ...  aceite-de-girasol\n",
              "1    feb. 2020  ...  aceite-de-girasol\n",
              "2    mar. 2020  ...  aceite-de-girasol\n",
              "3    abr. 2020  ...  aceite-de-girasol\n",
              "4    may. 2020  ...  aceite-de-girasol\n",
              "..         ...  ...                ...\n",
              "286  dic. 2020  ...               urea\n",
              "287  ene. 2021  ...               urea\n",
              "288  feb. 2021  ...               urea\n",
              "289  mar. 2021  ...               urea\n",
              "290  abr. 2021  ...               urea\n",
              "\n",
              "[291 rows x 6 columns]"
            ]
          },
          "metadata": {
            "tags": []
          },
          "execution_count": 19
        }
      ]
    },
    {
      "cell_type": "code",
      "metadata": {
        "id": "kWAIzRq6bkuN",
        "colab": {
          "base_uri": "https://localhost:8080/",
          "height": 406
        },
        "outputId": "37eab325-d815-4b7c-cabb-8c5e68589e02"
      },
      "source": [
        "def get_num_mes(mes):\n",
        "  global dicc_mes_num\n",
        "  return dicc_mes_num.get(mes[0:3])\n",
        "\n",
        "\n",
        "df2 = pd.DataFrame(columns=['precio','gestion','mes','dia','mercancia'])\n",
        "df2['precio'],df2['gestion'],df2['mes'],df2['dia'],df2['mercancia'] = df1['Precio'],df1['Mes'].str[5:], df1['Mes'].str[0:3].apply(lambda x: get_num_mes(x)),'1',df1['mercancia']\n",
        "df2"
      ],
      "execution_count": null,
      "outputs": [
        {
          "output_type": "execute_result",
          "data": {
            "text/html": [
              "<div>\n",
              "<style scoped>\n",
              "    .dataframe tbody tr th:only-of-type {\n",
              "        vertical-align: middle;\n",
              "    }\n",
              "\n",
              "    .dataframe tbody tr th {\n",
              "        vertical-align: top;\n",
              "    }\n",
              "\n",
              "    .dataframe thead th {\n",
              "        text-align: right;\n",
              "    }\n",
              "</style>\n",
              "<table border=\"1\" class=\"dataframe\">\n",
              "  <thead>\n",
              "    <tr style=\"text-align: right;\">\n",
              "      <th></th>\n",
              "      <th>precio</th>\n",
              "      <th>gestion</th>\n",
              "      <th>mes</th>\n",
              "      <th>dia</th>\n",
              "      <th>mercancia</th>\n",
              "    </tr>\n",
              "  </thead>\n",
              "  <tbody>\n",
              "    <tr>\n",
              "      <th>0</th>\n",
              "      <td>840,33</td>\n",
              "      <td>2020</td>\n",
              "      <td>1</td>\n",
              "      <td>1</td>\n",
              "      <td>aceite-de-girasol</td>\n",
              "    </tr>\n",
              "    <tr>\n",
              "      <th>1</th>\n",
              "      <td>823,00</td>\n",
              "      <td>2020</td>\n",
              "      <td>2</td>\n",
              "      <td>1</td>\n",
              "      <td>aceite-de-girasol</td>\n",
              "    </tr>\n",
              "    <tr>\n",
              "      <th>2</th>\n",
              "      <td>730,00</td>\n",
              "      <td>2020</td>\n",
              "      <td>3</td>\n",
              "      <td>1</td>\n",
              "      <td>aceite-de-girasol</td>\n",
              "    </tr>\n",
              "    <tr>\n",
              "      <th>3</th>\n",
              "      <td>732,10</td>\n",
              "      <td>2020</td>\n",
              "      <td>4</td>\n",
              "      <td>1</td>\n",
              "      <td>aceite-de-girasol</td>\n",
              "    </tr>\n",
              "    <tr>\n",
              "      <th>4</th>\n",
              "      <td>738,26</td>\n",
              "      <td>2020</td>\n",
              "      <td>5</td>\n",
              "      <td>1</td>\n",
              "      <td>aceite-de-girasol</td>\n",
              "    </tr>\n",
              "    <tr>\n",
              "      <th>...</th>\n",
              "      <td>...</td>\n",
              "      <td>...</td>\n",
              "      <td>...</td>\n",
              "      <td>...</td>\n",
              "      <td>...</td>\n",
              "    </tr>\n",
              "    <tr>\n",
              "      <th>286</th>\n",
              "      <td>245,00</td>\n",
              "      <td>2020</td>\n",
              "      <td>12</td>\n",
              "      <td>1</td>\n",
              "      <td>urea</td>\n",
              "    </tr>\n",
              "    <tr>\n",
              "      <th>287</th>\n",
              "      <td>265,00</td>\n",
              "      <td>2021</td>\n",
              "      <td>1</td>\n",
              "      <td>1</td>\n",
              "      <td>urea</td>\n",
              "    </tr>\n",
              "    <tr>\n",
              "      <th>288</th>\n",
              "      <td>335,00</td>\n",
              "      <td>2021</td>\n",
              "      <td>2</td>\n",
              "      <td>1</td>\n",
              "      <td>urea</td>\n",
              "    </tr>\n",
              "    <tr>\n",
              "      <th>289</th>\n",
              "      <td>352,88</td>\n",
              "      <td>2021</td>\n",
              "      <td>3</td>\n",
              "      <td>1</td>\n",
              "      <td>urea</td>\n",
              "    </tr>\n",
              "    <tr>\n",
              "      <th>290</th>\n",
              "      <td>328,10</td>\n",
              "      <td>2021</td>\n",
              "      <td>4</td>\n",
              "      <td>1</td>\n",
              "      <td>urea</td>\n",
              "    </tr>\n",
              "  </tbody>\n",
              "</table>\n",
              "<p>291 rows × 5 columns</p>\n",
              "</div>"
            ],
            "text/plain": [
              "     precio gestion mes dia          mercancia\n",
              "0    840,33    2020   1   1  aceite-de-girasol\n",
              "1    823,00    2020   2   1  aceite-de-girasol\n",
              "2    730,00    2020   3   1  aceite-de-girasol\n",
              "3    732,10    2020   4   1  aceite-de-girasol\n",
              "4    738,26    2020   5   1  aceite-de-girasol\n",
              "..      ...     ...  ..  ..                ...\n",
              "286  245,00    2020  12   1               urea\n",
              "287  265,00    2021   1   1               urea\n",
              "288  335,00    2021   2   1               urea\n",
              "289  352,88    2021   3   1               urea\n",
              "290  328,10    2021   4   1               urea\n",
              "\n",
              "[291 rows x 5 columns]"
            ]
          },
          "metadata": {
            "tags": []
          },
          "execution_count": 20
        }
      ]
    },
    {
      "cell_type": "code",
      "metadata": {
        "colab": {
          "base_uri": "https://localhost:8080/",
          "height": 406
        },
        "id": "FA-Ieo1d2y_3",
        "outputId": "43611f4c-11af-44ad-deb0-1e6b8a3a7cf1"
      },
      "source": [
        "df2['precio'] = df2['precio'].str.replace('.','')\n",
        "df2['precio'] = df2['precio'].str.replace(',','.')\n",
        "df2['precio'] = df2['precio'].astype(float)\n",
        "df2"
      ],
      "execution_count": null,
      "outputs": [
        {
          "output_type": "execute_result",
          "data": {
            "text/html": [
              "<div>\n",
              "<style scoped>\n",
              "    .dataframe tbody tr th:only-of-type {\n",
              "        vertical-align: middle;\n",
              "    }\n",
              "\n",
              "    .dataframe tbody tr th {\n",
              "        vertical-align: top;\n",
              "    }\n",
              "\n",
              "    .dataframe thead th {\n",
              "        text-align: right;\n",
              "    }\n",
              "</style>\n",
              "<table border=\"1\" class=\"dataframe\">\n",
              "  <thead>\n",
              "    <tr style=\"text-align: right;\">\n",
              "      <th></th>\n",
              "      <th>precio</th>\n",
              "      <th>gestion</th>\n",
              "      <th>mes</th>\n",
              "      <th>dia</th>\n",
              "      <th>mercancia</th>\n",
              "    </tr>\n",
              "  </thead>\n",
              "  <tbody>\n",
              "    <tr>\n",
              "      <th>0</th>\n",
              "      <td>840.33</td>\n",
              "      <td>2020</td>\n",
              "      <td>1</td>\n",
              "      <td>1</td>\n",
              "      <td>aceite-de-girasol</td>\n",
              "    </tr>\n",
              "    <tr>\n",
              "      <th>1</th>\n",
              "      <td>823.00</td>\n",
              "      <td>2020</td>\n",
              "      <td>2</td>\n",
              "      <td>1</td>\n",
              "      <td>aceite-de-girasol</td>\n",
              "    </tr>\n",
              "    <tr>\n",
              "      <th>2</th>\n",
              "      <td>730.00</td>\n",
              "      <td>2020</td>\n",
              "      <td>3</td>\n",
              "      <td>1</td>\n",
              "      <td>aceite-de-girasol</td>\n",
              "    </tr>\n",
              "    <tr>\n",
              "      <th>3</th>\n",
              "      <td>732.10</td>\n",
              "      <td>2020</td>\n",
              "      <td>4</td>\n",
              "      <td>1</td>\n",
              "      <td>aceite-de-girasol</td>\n",
              "    </tr>\n",
              "    <tr>\n",
              "      <th>4</th>\n",
              "      <td>738.26</td>\n",
              "      <td>2020</td>\n",
              "      <td>5</td>\n",
              "      <td>1</td>\n",
              "      <td>aceite-de-girasol</td>\n",
              "    </tr>\n",
              "    <tr>\n",
              "      <th>...</th>\n",
              "      <td>...</td>\n",
              "      <td>...</td>\n",
              "      <td>...</td>\n",
              "      <td>...</td>\n",
              "      <td>...</td>\n",
              "    </tr>\n",
              "    <tr>\n",
              "      <th>286</th>\n",
              "      <td>245.00</td>\n",
              "      <td>2020</td>\n",
              "      <td>12</td>\n",
              "      <td>1</td>\n",
              "      <td>urea</td>\n",
              "    </tr>\n",
              "    <tr>\n",
              "      <th>287</th>\n",
              "      <td>265.00</td>\n",
              "      <td>2021</td>\n",
              "      <td>1</td>\n",
              "      <td>1</td>\n",
              "      <td>urea</td>\n",
              "    </tr>\n",
              "    <tr>\n",
              "      <th>288</th>\n",
              "      <td>335.00</td>\n",
              "      <td>2021</td>\n",
              "      <td>2</td>\n",
              "      <td>1</td>\n",
              "      <td>urea</td>\n",
              "    </tr>\n",
              "    <tr>\n",
              "      <th>289</th>\n",
              "      <td>352.88</td>\n",
              "      <td>2021</td>\n",
              "      <td>3</td>\n",
              "      <td>1</td>\n",
              "      <td>urea</td>\n",
              "    </tr>\n",
              "    <tr>\n",
              "      <th>290</th>\n",
              "      <td>328.10</td>\n",
              "      <td>2021</td>\n",
              "      <td>4</td>\n",
              "      <td>1</td>\n",
              "      <td>urea</td>\n",
              "    </tr>\n",
              "  </tbody>\n",
              "</table>\n",
              "<p>291 rows × 5 columns</p>\n",
              "</div>"
            ],
            "text/plain": [
              "     precio gestion mes dia          mercancia\n",
              "0    840.33    2020   1   1  aceite-de-girasol\n",
              "1    823.00    2020   2   1  aceite-de-girasol\n",
              "2    730.00    2020   3   1  aceite-de-girasol\n",
              "3    732.10    2020   4   1  aceite-de-girasol\n",
              "4    738.26    2020   5   1  aceite-de-girasol\n",
              "..      ...     ...  ..  ..                ...\n",
              "286  245.00    2020  12   1               urea\n",
              "287  265.00    2021   1   1               urea\n",
              "288  335.00    2021   2   1               urea\n",
              "289  352.88    2021   3   1               urea\n",
              "290  328.10    2021   4   1               urea\n",
              "\n",
              "[291 rows x 5 columns]"
            ]
          },
          "metadata": {
            "tags": []
          },
          "execution_count": 21
        }
      ]
    },
    {
      "cell_type": "code",
      "metadata": {
        "id": "oyQOPJ52687e"
      },
      "source": [
        "df3 = df2.merge(dicc_index_mundi, on='mercancia', how='left')"
      ],
      "execution_count": null,
      "outputs": []
    },
    {
      "cell_type": "code",
      "metadata": {
        "id": "Cia88SKR2muV"
      },
      "source": [
        "df3 = df3.iloc[:, [7,11,12,9,10,1,2,3,0,13,8]]"
      ],
      "execution_count": null,
      "outputs": []
    },
    {
      "cell_type": "code",
      "metadata": {
        "id": "NR_o1eFyS-Bb"
      },
      "source": [
        "df3.to_excel(\"precios_INDEX_MUNDI.xlsx\", index=False)"
      ],
      "execution_count": null,
      "outputs": []
    }
  ]
}