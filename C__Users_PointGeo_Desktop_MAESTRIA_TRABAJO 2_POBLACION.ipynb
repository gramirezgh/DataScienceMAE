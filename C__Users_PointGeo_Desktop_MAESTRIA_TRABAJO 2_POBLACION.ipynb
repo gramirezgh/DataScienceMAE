{
 "cells": [
  {
   "cell_type": "code",
   "execution_count": 1,
   "metadata": {},
   "outputs": [],
   "source": [
    "import numpy as np\n",
    "import pandas as pd\n",
    "%matplotlib inline\n",
    "import matplotlib.pyplot as plt\n",
    "import seaborn; seaborn.set()\n",
    "import statsmodels.api as sm\n",
    "from math import pi"
   ]
  },
  {
   "cell_type": "code",
   "execution_count": 2,
   "metadata": {},
   "outputs": [],
   "source": [
    "pob = pd.read_csv('data/poblacion.csv ') # carga de datos poblacionales 1952 - 2007\n"
   ]
  },
  {
   "cell_type": "code",
   "execution_count": 3,
   "metadata": {},
   "outputs": [
    {
     "name": "stdout",
     "output_type": "stream",
     "text": [
      "       country  year  population\n",
      "0  Afghanistan  1952     8425333\n",
      "1  Afghanistan  1957     9240934\n",
      "2  Afghanistan  1962    10267083\n",
      "3  Afghanistan  1967    11537966\n",
      "4  Afghanistan  1972    13079460\n",
      "#############################\n",
      "Cantidad de filas y columnas  (1704, 3)\n",
      "#############################\n",
      "Nombre de las columnas Index(['country', 'year', 'population'], dtype='object')\n"
     ]
    }
   ],
   "source": [
    "print(pob.head()) #Mostrando las cabeceras de los datos poblacionales\n",
    "print('#############################')\n",
    "print ('Cantidad de filas y columnas ', pob.shape)\n",
    "print('#############################')\n",
    "print ('Nombre de las columnas', pob.columns)"
   ]
  },
  {
   "cell_type": "code",
   "execution_count": 4,
   "metadata": {},
   "outputs": [
    {
     "data": {
      "text/html": [
       "<div>\n",
       "<style scoped>\n",
       "    .dataframe tbody tr th:only-of-type {\n",
       "        vertical-align: middle;\n",
       "    }\n",
       "\n",
       "    .dataframe tbody tr th {\n",
       "        vertical-align: top;\n",
       "    }\n",
       "\n",
       "    .dataframe thead th {\n",
       "        text-align: right;\n",
       "    }\n",
       "</style>\n",
       "<table border=\"1\" class=\"dataframe\">\n",
       "  <thead>\n",
       "    <tr style=\"text-align: right;\">\n",
       "      <th></th>\n",
       "      <th>year</th>\n",
       "      <th>population</th>\n",
       "    </tr>\n",
       "  </thead>\n",
       "  <tbody>\n",
       "    <tr>\n",
       "      <th>count</th>\n",
       "      <td>1704.00000</td>\n",
       "      <td>1.704000e+03</td>\n",
       "    </tr>\n",
       "    <tr>\n",
       "      <th>mean</th>\n",
       "      <td>1979.50000</td>\n",
       "      <td>2.960121e+07</td>\n",
       "    </tr>\n",
       "    <tr>\n",
       "      <th>std</th>\n",
       "      <td>17.26533</td>\n",
       "      <td>1.061579e+08</td>\n",
       "    </tr>\n",
       "    <tr>\n",
       "      <th>min</th>\n",
       "      <td>1952.00000</td>\n",
       "      <td>6.001100e+04</td>\n",
       "    </tr>\n",
       "    <tr>\n",
       "      <th>25%</th>\n",
       "      <td>1965.75000</td>\n",
       "      <td>2.793664e+06</td>\n",
       "    </tr>\n",
       "    <tr>\n",
       "      <th>50%</th>\n",
       "      <td>1979.50000</td>\n",
       "      <td>7.023596e+06</td>\n",
       "    </tr>\n",
       "    <tr>\n",
       "      <th>75%</th>\n",
       "      <td>1993.25000</td>\n",
       "      <td>1.958522e+07</td>\n",
       "    </tr>\n",
       "    <tr>\n",
       "      <th>max</th>\n",
       "      <td>2007.00000</td>\n",
       "      <td>1.318683e+09</td>\n",
       "    </tr>\n",
       "  </tbody>\n",
       "</table>\n",
       "</div>"
      ],
      "text/plain": [
       "             year    population\n",
       "count  1704.00000  1.704000e+03\n",
       "mean   1979.50000  2.960121e+07\n",
       "std      17.26533  1.061579e+08\n",
       "min    1952.00000  6.001100e+04\n",
       "25%    1965.75000  2.793664e+06\n",
       "50%    1979.50000  7.023596e+06\n",
       "75%    1993.25000  1.958522e+07\n",
       "max    2007.00000  1.318683e+09"
      ]
     },
     "execution_count": 4,
     "metadata": {},
     "output_type": "execute_result"
    }
   ],
   "source": [
    "pob.describe() #Descripción general de los datos minimo, maximo, etc"
   ]
  },
  {
   "cell_type": "code",
   "execution_count": 5,
   "metadata": {},
   "outputs": [
    {
     "name": "stdout",
     "output_type": "stream",
     "text": [
      "     country  year  population\n",
      "132  Bolivia  1952     2883315\n",
      "133  Bolivia  1957     3211738\n",
      "134  Bolivia  1962     3593918\n",
      "135  Bolivia  1967     4040665\n",
      "136  Bolivia  1972     4565872\n"
     ]
    },
    {
     "data": {
      "image/png": "[encoded data removed]",
      "text/plain": [
       "<Figure size 432x288 with 1 Axes>"
      ]
     },
     "metadata": {},
     "output_type": "display_data"
    }
   ],
   "source": [
    "pob_Bob = pob[pob[\"country\"] == 'Bolivia'] # Filtrando a Bolivia de la lista de datos poblacionales \n",
    "print(pob_Bob.head()) #Viendo las primeras 3 lineas\n",
    "pob_Bob.drop(['country'],axis=1)['population'].plot(kind='bar') #quitando la cabecera 'country' elegiendo el eje 1 y dibujando\n",
    "                                                                #el crecimiento de poblacion segun cada 2 años \n",
    "#Filtrando a los paises a ser comparados con Bolivia en los ultimos 55 años\n",
    "pob_Pe = pob[pob[\"country\"] == 'Peru']\n",
    "pob_Ar = pob[(pob[\"country\"] == 'Argentina')]\n",
    "pob_Br = pob[(pob[\"country\"] == 'Brazil')]\n",
    "pob_Ve = pob[(pob[\"country\"] == 'Venezuela')]"
   ]
  },
  {
   "cell_type": "code",
   "execution_count": 6,
   "metadata": {},
   "outputs": [
    {
     "data": {
      "text/plain": [
       "<matplotlib.axes._subplots.AxesSubplot at 0x23df2655d00>"
      ]
     },
     "execution_count": 6,
     "metadata": {},
     "output_type": "execute_result"
    },
    {
     "data": {
      "image/png": "[encoded data removed]",
      "text/plain": [
       "<Figure size 432x288 with 1 Axes>"
      ]
     },
     "metadata": {},
     "output_type": "display_data"
    }
   ],
   "source": [
    "anios = pob_Bob['year'].unique() #los años van en el eje x\n",
    "pop_ar = pob_Ar['population'].values #Valores poblacionales de Argentina\n",
    "pop_bo = pob_Bob['population'].values #Valores poblacionales de Bolivia\n",
    "pop_pe = pob_Pe['population'].values  #Valores poblacionales de Peru\n",
    "pop_bra = pob_Br['population'].values #Valores poblacionales de Brasil \n",
    "pop_ve = pob_Ve['population'].values  #Valores poblacionales de Venezuela\n",
    " \n",
    "df_plot = pd.DataFrame({'Argentina': pop_ar,'Bolivia': pop_bo, 'Peru': pop_pe, 'Brazil': pop_bra, 'Venezuela': pop_ve}, index=anios)\n",
    "df_plot.plot(kind='bar') #Grafica de paises y su crecimiento en millones entre 1952 - 2007 ==> '55 años'"
   ]
  },
  {
   "cell_type": "code",
   "execution_count": 7,
   "metadata": {},
   "outputs": [
    {
     "data": {
      "image/png": "[encoded data removed]",
      "text/plain": [
       "<Figure size 432x288 with 1 Axes>"
      ]
     },
     "metadata": {},
     "output_type": "display_data"
    }
   ],
   "source": [
    "#Analizando la mayor concentración de población, mediante outliers\n",
    "pob = pd.read_csv('data/poblacion.csv ')['population']\n",
    "population_unique, counts = np.unique(pob, return_counts=True)\n",
    " \n",
    "sizes = counts*100\n",
    "colors = ['blue']*len(population_unique)\n",
    "colors[-1] = 'red'\n",
    " \n",
    "plt.axhline(1, color='k', linestyle='--')\n",
    "plt.scatter(population_unique, np.ones(len(population_unique)), s=sizes, color=colors)\n",
    "plt.yticks([])\n",
    "plt.show()"
   ]
  },
  {
   "cell_type": "code",
   "execution_count": 30,
   "metadata": {},
   "outputs": [
    {
     "data": {
      "image/png": "[encoded data removed]",
      "text/plain": [
       "<Figure size 432x288 with 1 Axes>"
      ]
     },
     "metadata": {},
     "output_type": "display_data"
    }
   ],
   "source": [
    "# pob = pd.read_csv('data/poblacion.csv ')['population']\n",
    "anios = pd.read_csv('data/poblacion.csv')['year']\n",
    "media_pob = pob.mean()\n",
    "std_pob_x = pob.std()*2\n",
    "media_anios = anios.mean()\n",
    "std_anios_y = anios.std()*2\n",
    "colors = ['blue']*len(pob)\n",
    "for index, x in enumerate(pob):\n",
    "    if abs(x-media_pob)>std_pob_x:\n",
    "       colors[index] = 'red'\n",
    "        \n",
    "for index, x in enumerate(anios):\n",
    "    if abs(media_anios)>std_anios_y:\n",
    "       colors[index] = 'red'\n",
    "\n",
    "plt.scatter(pob, anios, s = 100,color = colors)\n",
    "plt.axhline(media_pob, color = 'k', linestyle = '--')\n",
    "plt.axvline(media_anios, color ='k', linestyle = '--')\n",
    "\n",
    "v=media_pob\n",
    "u=media_anios\n",
    "b=std_pob_x\n",
    "a=std_anios_y\n",
    "\n",
    "t= np.linspace(0,2*pi, 100)\n",
    "plt.plot(u+a*np.cos(t), v+b*np.sin(t))\n",
    "\n",
    "plt.ylabel('Población')\n",
    "plt.xlabel('Años')\n",
    "plt.show()\n"
   ]
  },
  {
   "cell_type": "raw",
   "metadata": {},
   "source": []
  }
 ],
 "metadata": {
  "kernelspec": {
   "display_name": "Python 3",
   "language": "python",
   "name": "python3"
  },
  "language_info": {
   "codemirror_mode": {
    "name": "ipython",
    "version": 3
   },
   "file_extension": ".py",
   "mimetype": "text/x-python",
   "name": "python",
   "nbconvert_exporter": "python",
   "pygments_lexer": "ipython3",
   "version": "3.8.3"
  }
 },
 "nbformat": 4,
 "nbformat_minor": 4
}
